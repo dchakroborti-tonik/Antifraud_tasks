{
 "cells": [
  {
   "cell_type": "markdown",
   "metadata": {},
   "source": [
    "# Finding if the employer list have CKMJ Greenovation Inc "
   ]
  },
  {
   "cell_type": "markdown",
   "metadata": {},
   "source": [
    "Hi @Gaurav and Team,\n",
    "\n",
    "Good morning.\n",
    "\n",
    "We would like to request for the extraction of all accounts with CKMJ GREENOVATION as their declared employer. We received information that employment verification with this company might be fictitious.\n",
    "\n",
    "Kindly include whether extracted accounts have loan applications and their status as well. Thank you!\n",
    "\n",
    "\n",
    "Regards,\n",
    "Mela\n"
   ]
  },
  {
   "cell_type": "code",
   "execution_count": 1,
   "metadata": {},
   "outputs": [],
   "source": [
    "# import Libraries\n",
    "\n",
    "import pandas as pd \n",
    "import numpy as np \n",
    "\n",
    "from google.cloud import bigquery\n",
    "import os \n",
    "\n",
    "path = r\"C:\\Users\\DwaipayanChakroborti\\AppData\\Roaming\\gcloud\\legacy_credentials\\dchakroborti@tonikbank.com\\adc.json\"\n",
    "\n",
    "os.environ[\"GOOGLE_APPLICATION_CREDENTIALS\"] = path\n",
    "client = bigquery.Client(project=\"prj-prod-dataplatform\")\n"
   ]
  },
  {
   "cell_type": "code",
   "execution_count": 2,
   "metadata": {},
   "outputs": [
    {
     "name": "stdout",
     "output_type": "stream",
     "text": [
      "Job ID 96c4b826-3c29-483a-8551-7342081bb4e2 successfully executed: 100%|\u001b[32m██████████\u001b[0m|\n",
      "Downloading: 100%|\u001b[32m██████████\u001b[0m|\n"
     ]
    }
   ],
   "source": [
    "sq = \"\"\"\n",
    "select upper(TSA_company_name) Company_Name \n",
    ", customerId\n",
    ", digitalLoanAccountId\n",
    ", loanAccountNumber\n",
    ", firstName||''||middleName||''||lastName Customername\n",
    ", format_date('%Y-%m-%d', startInitiateDateTime) Application_date\n",
    ", upper(coalesce(companyName, 'NA')) companyname\n",
    ", firstDueDate\n",
    ", currentDelinquency\n",
    ", loanPaidStatus\n",
    ", applicationStatus\n",
    ", flagApproval\n",
    ", flagDisbursement\n",
    ", flagRejection\n",
    ", rejectedReason\n",
    "from `risk_credit_mis.loan_master_table` where (upper(coalesce(TSA_company_name, 'NA')) like '%CKMJ%' or upper(coalesce(TSA_company_name, 'NA')) like '%GREENOVATION%')\n",
    "union distinct\n",
    "select upper(coalesce(companyName, 'NA')) Company_Name \n",
    ", customerId\n",
    ", digitalLoanAccountId\n",
    ", loanAccountNumber\n",
    ", firstName||''||middleName||''||lastName Customername\n",
    ", format_date('%Y-%m-%d', startInitiateDateTime) Application_date\n",
    ", upper(coalesce(TSA_company_name, 'NA')) companyname\n",
    ", firstDueDate\n",
    ", currentDelinquency\n",
    ", loanPaidStatus\n",
    ", applicationStatus\n",
    ", flagApproval\n",
    ", flagDisbursement\n",
    ", flagRejection\n",
    ", rejectedReason\n",
    "from `risk_credit_mis.loan_master_table` where (upper(coalesce(companyName, 'NA')) like '%CKMJ%' or upper(coalesce(companyName, 'NA')) like  '%GREENOVATION%')\n",
    "\n",
    "\"\"\"\n",
    "\n",
    "df_fraud = client.query(sq).to_dataframe(progress_bar_type='tqdm')"
   ]
  },
  {
   "cell_type": "code",
   "execution_count": 3,
   "metadata": {},
   "outputs": [
    {
     "name": "stdout",
     "output_type": "stream",
     "text": [
      "The rows and columns found from above query are:\t (8, 15)\n"
     ]
    }
   ],
   "source": [
    "print(\"The rows and columns found from above query are:\\t\", df_fraud.shape)"
   ]
  },
  {
   "cell_type": "code",
   "execution_count": 4,
   "metadata": {},
   "outputs": [],
   "source": [
    "df_fraud.to_excel(\"CKMJ_GREENOVATION_IN_OUR_DATABASE.xlsx\", index = False)"
   ]
  },
  {
   "cell_type": "markdown",
   "metadata": {},
   "source": [
    "Hi Mela,\n",
    "\n",
    "Please find the attached data. \n",
    "\n",
    "We only found 8 application and out of this only 1 was disbursed. The first due date for this loan is on 2nd of November 2023.\n",
    "\n",
    "Please let me know if you want any other information.\n",
    "\n",
    "Best regards,\n",
    "\n",
    "Dwaipayan Chakroborti\n"
   ]
  },
  {
   "cell_type": "code",
   "execution_count": 5,
   "metadata": {},
   "outputs": [
    {
     "name": "stdout",
     "output_type": "stream",
     "text": [
      "Job ID 549eee97-d2ec-4f16-9577-cfa17c3dac2c successfully executed: 100%|\u001b[32m██████████\u001b[0m|\n",
      "Downloading: 100%|\u001b[32m██████████\u001b[0m|\n"
     ]
    }
   ],
   "source": [
    "sq = \"\"\"select * \n",
    "from `prj-prod-dataplatform.marketing.tsa_funnel` where (upper(coalesce(Company_Name, 'NA')) like '%CKMJ%' or upper(coalesce(Company_Name, 'NA')) like  '%GREENOVATION%')\"\"\"\n",
    "\n",
    "df_tsa_fraud = client.query(sq).to_dataframe(progress_bar_type='tqdm')"
   ]
  },
  {
   "cell_type": "code",
   "execution_count": 11,
   "metadata": {},
   "outputs": [
    {
     "data": {
      "text/plain": [
       "array(['Mobile_Number', 'Date_Mobile_Number', 'Customerid',\n",
       "       'Account_Number', 'Date_Of_Opening', 'Account_Type',\n",
       "       'Date_Account_Verified', 'Flag_Terms_And_Conditions',\n",
       "       'Date_Terms_And_Conditions', 'Flag_Data_Privacy_Statement',\n",
       "       'Date_Data_Privacy_Statement', 'OTP_Sent', 'Date_OTP_Sent',\n",
       "       'Flag_Otp_Confirmed', 'Date_Otp_Confirmed',\n",
       "       'Flag_Otp_Confirmation_Attempted',\n",
       "       'Date_Otp_Confirmation_Attempted', 'Nationality',\n",
       "       'Date_Nationality', 'Date_Selfie_Initiated', 'Flag_Selfie',\n",
       "       'Date_Selfie_Completed', 'Document_Scan_Type',\n",
       "       'Date_Document_Scan_Successful', 'Date_Document_Scan_Initiated',\n",
       "       'Document_Front_Scan_Successful', 'Document_Back_Scan_Successful',\n",
       "       'Document_Live_Scan_Fail', 'Document_Scan_Attempts',\n",
       "       'Document_Number', 'Document_Expiry_Date',\n",
       "       'Date_Document_Number_Page', 'Date_Document_verified',\n",
       "       'Flag_Security_Guard_Confirmed', 'First_Name', 'Middle_Name',\n",
       "       'Last_Name', 'Date_Profile_Page', 'Gender', 'Date_Of_Birth',\n",
       "       'Place_Of_Birth', 'Country', 'Zipcode', 'Flag_Apply_ZIP_Code',\n",
       "       'Date_Apply_ZIP_Code', 'Province', 'City_Municipality', 'Barangay',\n",
       "       'House_Number', 'Date_Address_Page', 'Income_Source',\n",
       "       'Employment_Status', 'Nature_Of_Work', 'Industry',\n",
       "       'Date_Profession_Page', 'Email_Address', 'Mothers_Maiden_Name',\n",
       "       'Banking_Relation_Define', 'Date_Email_Address_Page', 'Flag_Fatca',\n",
       "       'Date_Fatca', 'Flag_Sign', 'Date_Sign', 'Flag_Risk_Check',\n",
       "       'Date_Risk_Check', 'Flag_Know_Your_Account',\n",
       "       'Date_Know_Your_Account', 'Flag_Password_Created',\n",
       "       'Date_Password_Created', 'Daon_Result', 'Date_Daon_Result',\n",
       "       'Flag_Top_up', 'Date_First_Top_up', 'Account_Balance',\n",
       "       'Number_Of_Solo_Stash', 'Number_Of_Group_Stash',\n",
       "       'Number_Of_Term_Deposit', 'Balance_Of_Solo_Stash',\n",
       "       'Balance_Of_Group_Stash', 'Balance_Of_Term_Deposits', 'Error',\n",
       "       'Internal_Check_Results', 'Kyc_Type', 'Date_Skyc',\n",
       "       'Account_Status', 'Date_Account_Inactive', 'Credolab_Deviceid',\n",
       "       'Gps', 'Ip_Address', 'Device_Type', 'Os_Version', 'App_Version',\n",
       "       'Device_Brand', 'Referred_by', 'Utm', 'Credolab_Reference_Number',\n",
       "       'Credolab_Score', 'Company_Name', 'run_date', 'AppsFlyer_ID',\n",
       "       'Media_Source', 'channel', 'Campaign', 'Campaign_ID', 'Adset',\n",
       "       'Adset_ID', 'Install_Time'], dtype=object)"
      ]
     },
     "execution_count": 11,
     "metadata": {},
     "output_type": "execute_result"
    }
   ],
   "source": [
    "df_tsa_fraud.columns.values"
   ]
  },
  {
   "cell_type": "code",
   "execution_count": 12,
   "metadata": {},
   "outputs": [],
   "source": [
    "df_tsa_fraud[['Mobile_Number', 'Date_Mobile_Number', 'Customerid',\n",
    "       'Account_Number', 'Date_Of_Opening', 'Account_Type','Company_Name','Flag_Risk_Check' ]].to_excel(\"CKMJ_GREENOVATION_IN_OUR_DATABASE_intsafunnel.xlsx\", index = False)"
   ]
  },
  {
   "cell_type": "code",
   "execution_count": 14,
   "metadata": {},
   "outputs": [],
   "source": [
    "df_tsa_fraud.to_csv('CKMJ_GREENOVATION_IN_OUR_DATABASE_tsadata.csv', index = False)"
   ]
  },
  {
   "cell_type": "code",
   "execution_count": null,
   "metadata": {},
   "outputs": [],
   "source": []
  }
 ],
 "metadata": {
  "kernelspec": {
   "display_name": "prjfraudscore",
   "language": "python",
   "name": "python3"
  },
  "language_info": {
   "codemirror_mode": {
    "name": "ipython",
    "version": 3
   },
   "file_extension": ".py",
   "mimetype": "text/x-python",
   "name": "python",
   "nbconvert_exporter": "python",
   "pygments_lexer": "ipython3",
   "version": "3.8.12"
  }
 },
 "nbformat": 4,
 "nbformat_minor": 2
}
