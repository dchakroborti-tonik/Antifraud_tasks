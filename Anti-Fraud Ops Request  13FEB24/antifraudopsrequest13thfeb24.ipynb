{
 "cells": [
  {
   "cell_type": "markdown",
   "metadata": {},
   "source": [
    "# <div align=\"center\" style=\"color: #ff5733;\">Data For Anti-Fraud</div>"
   ]
  },
  {
   "attachments": {
    "image.png": {
     "image/png": "[encoded data removed]"
    }
   },
   "cell_type": "markdown",
   "metadata": {},
   "source": [
    "![image.png](attachment:image.png)"
   ]
  },
  {
   "cell_type": "code",
   "execution_count": 1,
   "metadata": {},
   "outputs": [],
   "source": [
    "# %% [markdown]\n",
    "# # Jupyter Notebook Loading Header\n",
    "#\n",
    "# This is a custom loading header for Jupyter Notebooks in Visual Studio Code.\n",
    "# It includes common imports and settings to get you started quickly.\n",
    "\n",
    "# %% [markdown]\n",
    "## Import Libraries\n",
    "import pandas as pd\n",
    "import numpy as np\n",
    "import matplotlib.pyplot as plt\n",
    "import seaborn as sns\n",
    "from google.cloud import bigquery\n",
    "import os\n",
    "path = r'C:\\Users\\DwaipayanChakroborti\\AppData\\Roaming\\gcloud\\legacy_credentials\\dchakroborti@tonikbank.com\\adc.json'\n",
    "os.environ['GOOGLE_APPLICATION_CREDENTIALS'] = path\n",
    "client = bigquery.Client(project='prj-prod-dataplatform')\n",
    "\n",
    "# %% [markdown]\n",
    "## Configure Settings\n",
    "# Set options or configurations as needed\n",
    "# Example: pd.set_option('display.max_columns', None)"
   ]
  },
  {
   "cell_type": "code",
   "execution_count": 2,
   "metadata": {},
   "outputs": [
    {
     "name": "stdout",
     "output_type": "stream",
     "text": [
      "The rows and columns in dfr are:\t (873, 24)\n"
     ]
    }
   ],
   "source": [
    "dfr = pd.read_excel(r\"D:\\OneDrive - Tonik Financial Pte Ltd\\MyStuff\\Mela Sombillo csombillo1@tonikbank.com\\Anti-Fraud Ops Request  13FEB24\\Anti-Fraud Ops Request l 13FEB24.xlsx\", sheet_name='rawdata')\n",
    "print(f\"The rows and columns in dfr are:\\t {dfr.shape}\")"
   ]
  },
  {
   "cell_type": "code",
   "execution_count": 3,
   "metadata": {},
   "outputs": [
    {
     "data": {
      "text/html": [
       "<div>\n",
       "<style scoped>\n",
       "    .dataframe tbody tr th:only-of-type {\n",
       "        vertical-align: middle;\n",
       "    }\n",
       "\n",
       "    .dataframe tbody tr th {\n",
       "        vertical-align: top;\n",
       "    }\n",
       "\n",
       "    .dataframe thead th {\n",
       "        text-align: right;\n",
       "    }\n",
       "</style>\n",
       "<table border=\"1\" class=\"dataframe\">\n",
       "  <thead>\n",
       "    <tr style=\"text-align: right;\">\n",
       "      <th></th>\n",
       "      <th>customerId</th>\n",
       "      <th>Source</th>\n",
       "      <th>loanAccountNumber</th>\n",
       "      <th>disbursedLoanAmount</th>\n",
       "      <th>dateOfBirth</th>\n",
       "      <th>name</th>\n",
       "      <th>mobileNo</th>\n",
       "      <th>Ref1_contact</th>\n",
       "      <th>Ref2_contact</th>\n",
       "      <th>tinNumber</th>\n",
       "      <th>docType</th>\n",
       "      <th>docNumber</th>\n",
       "      <th>email</th>\n",
       "      <th>tsa_zip</th>\n",
       "      <th>tsa_city</th>\n",
       "      <th>tsa_province</th>\n",
       "      <th>loanPaidStatus</th>\n",
       "      <th>custLoanJourneyZipCode</th>\n",
       "      <th>custLoanJourneyCity</th>\n",
       "      <th>custLoanJourneyProvince</th>\n",
       "      <th>booking_date</th>\n",
       "      <th>natureofwork</th>\n",
       "      <th>industryDescription</th>\n",
       "      <th>subIndustryDescription</th>\n",
       "    </tr>\n",
       "  </thead>\n",
       "  <tbody>\n",
       "    <tr>\n",
       "      <th>0</th>\n",
       "      <td>1367758</td>\n",
       "      <td>Collections</td>\n",
       "      <td>NaN</td>\n",
       "      <td>NaN</td>\n",
       "      <td>NaN</td>\n",
       "      <td>NaN</td>\n",
       "      <td>NaN</td>\n",
       "      <td>NaN</td>\n",
       "      <td>NaN</td>\n",
       "      <td>NaN</td>\n",
       "      <td>NaN</td>\n",
       "      <td>NaN</td>\n",
       "      <td>NaN</td>\n",
       "      <td>NaN</td>\n",
       "      <td>NaN</td>\n",
       "      <td>NaN</td>\n",
       "      <td>NaN</td>\n",
       "      <td>NaN</td>\n",
       "      <td>NaN</td>\n",
       "      <td>NaN</td>\n",
       "      <td>NaN</td>\n",
       "      <td>NaN</td>\n",
       "      <td>NaN</td>\n",
       "      <td>NaN</td>\n",
       "    </tr>\n",
       "    <tr>\n",
       "      <th>1</th>\n",
       "      <td>1461778</td>\n",
       "      <td>Collections</td>\n",
       "      <td>NaN</td>\n",
       "      <td>NaN</td>\n",
       "      <td>NaN</td>\n",
       "      <td>NaN</td>\n",
       "      <td>NaN</td>\n",
       "      <td>NaN</td>\n",
       "      <td>NaN</td>\n",
       "      <td>NaN</td>\n",
       "      <td>NaN</td>\n",
       "      <td>NaN</td>\n",
       "      <td>NaN</td>\n",
       "      <td>NaN</td>\n",
       "      <td>NaN</td>\n",
       "      <td>NaN</td>\n",
       "      <td>NaN</td>\n",
       "      <td>NaN</td>\n",
       "      <td>NaN</td>\n",
       "      <td>NaN</td>\n",
       "      <td>NaN</td>\n",
       "      <td>NaN</td>\n",
       "      <td>NaN</td>\n",
       "      <td>NaN</td>\n",
       "    </tr>\n",
       "    <tr>\n",
       "      <th>2</th>\n",
       "      <td>1431743</td>\n",
       "      <td>Collections</td>\n",
       "      <td>NaN</td>\n",
       "      <td>NaN</td>\n",
       "      <td>NaN</td>\n",
       "      <td>NaN</td>\n",
       "      <td>NaN</td>\n",
       "      <td>NaN</td>\n",
       "      <td>NaN</td>\n",
       "      <td>NaN</td>\n",
       "      <td>NaN</td>\n",
       "      <td>NaN</td>\n",
       "      <td>NaN</td>\n",
       "      <td>NaN</td>\n",
       "      <td>NaN</td>\n",
       "      <td>NaN</td>\n",
       "      <td>NaN</td>\n",
       "      <td>NaN</td>\n",
       "      <td>NaN</td>\n",
       "      <td>NaN</td>\n",
       "      <td>NaN</td>\n",
       "      <td>NaN</td>\n",
       "      <td>NaN</td>\n",
       "      <td>NaN</td>\n",
       "    </tr>\n",
       "    <tr>\n",
       "      <th>3</th>\n",
       "      <td>1475857</td>\n",
       "      <td>Collections</td>\n",
       "      <td>NaN</td>\n",
       "      <td>NaN</td>\n",
       "      <td>NaN</td>\n",
       "      <td>NaN</td>\n",
       "      <td>NaN</td>\n",
       "      <td>NaN</td>\n",
       "      <td>NaN</td>\n",
       "      <td>NaN</td>\n",
       "      <td>NaN</td>\n",
       "      <td>NaN</td>\n",
       "      <td>NaN</td>\n",
       "      <td>NaN</td>\n",
       "      <td>NaN</td>\n",
       "      <td>NaN</td>\n",
       "      <td>NaN</td>\n",
       "      <td>NaN</td>\n",
       "      <td>NaN</td>\n",
       "      <td>NaN</td>\n",
       "      <td>NaN</td>\n",
       "      <td>NaN</td>\n",
       "      <td>NaN</td>\n",
       "      <td>NaN</td>\n",
       "    </tr>\n",
       "    <tr>\n",
       "      <th>4</th>\n",
       "      <td>1489817</td>\n",
       "      <td>Collections</td>\n",
       "      <td>NaN</td>\n",
       "      <td>NaN</td>\n",
       "      <td>NaN</td>\n",
       "      <td>NaN</td>\n",
       "      <td>NaN</td>\n",
       "      <td>NaN</td>\n",
       "      <td>NaN</td>\n",
       "      <td>NaN</td>\n",
       "      <td>NaN</td>\n",
       "      <td>NaN</td>\n",
       "      <td>NaN</td>\n",
       "      <td>NaN</td>\n",
       "      <td>NaN</td>\n",
       "      <td>NaN</td>\n",
       "      <td>NaN</td>\n",
       "      <td>NaN</td>\n",
       "      <td>NaN</td>\n",
       "      <td>NaN</td>\n",
       "      <td>NaN</td>\n",
       "      <td>NaN</td>\n",
       "      <td>NaN</td>\n",
       "      <td>NaN</td>\n",
       "    </tr>\n",
       "  </tbody>\n",
       "</table>\n",
       "</div>"
      ],
      "text/plain": [
       "   customerId       Source  loanAccountNumber  disbursedLoanAmount  \\\n",
       "0     1367758  Collections                NaN                  NaN   \n",
       "1     1461778  Collections                NaN                  NaN   \n",
       "2     1431743  Collections                NaN                  NaN   \n",
       "3     1475857  Collections                NaN                  NaN   \n",
       "4     1489817  Collections                NaN                  NaN   \n",
       "\n",
       "   dateOfBirth  name  mobileNo  Ref1_contact  Ref2_contact  tinNumber  \\\n",
       "0          NaN   NaN       NaN           NaN           NaN        NaN   \n",
       "1          NaN   NaN       NaN           NaN           NaN        NaN   \n",
       "2          NaN   NaN       NaN           NaN           NaN        NaN   \n",
       "3          NaN   NaN       NaN           NaN           NaN        NaN   \n",
       "4          NaN   NaN       NaN           NaN           NaN        NaN   \n",
       "\n",
       "   docType  docNumber  email  tsa_zip  tsa_city  tsa_province  loanPaidStatus  \\\n",
       "0      NaN        NaN    NaN      NaN       NaN           NaN             NaN   \n",
       "1      NaN        NaN    NaN      NaN       NaN           NaN             NaN   \n",
       "2      NaN        NaN    NaN      NaN       NaN           NaN             NaN   \n",
       "3      NaN        NaN    NaN      NaN       NaN           NaN             NaN   \n",
       "4      NaN        NaN    NaN      NaN       NaN           NaN             NaN   \n",
       "\n",
       "   custLoanJourneyZipCode  custLoanJourneyCity  custLoanJourneyProvince  \\\n",
       "0                     NaN                  NaN                      NaN   \n",
       "1                     NaN                  NaN                      NaN   \n",
       "2                     NaN                  NaN                      NaN   \n",
       "3                     NaN                  NaN                      NaN   \n",
       "4                     NaN                  NaN                      NaN   \n",
       "\n",
       "   booking_date  natureofwork  industryDescription  subIndustryDescription  \n",
       "0           NaN           NaN                  NaN                     NaN  \n",
       "1           NaN           NaN                  NaN                     NaN  \n",
       "2           NaN           NaN                  NaN                     NaN  \n",
       "3           NaN           NaN                  NaN                     NaN  \n",
       "4           NaN           NaN                  NaN                     NaN  "
      ]
     },
     "execution_count": 3,
     "metadata": {},
     "output_type": "execute_result"
    }
   ],
   "source": [
    "pd.set_option(\"Display.max_columns\", None)\n",
    "dfr.head()"
   ]
  },
  {
   "cell_type": "code",
   "execution_count": 4,
   "metadata": {},
   "outputs": [
    {
     "data": {
      "text/plain": [
       "Index(['customerId', 'Source', 'loanAccountNumber', 'disbursedLoanAmount',\n",
       "       'dateOfBirth', 'name', 'mobileNo', 'Ref1_contact', 'Ref2_contact',\n",
       "       'tinNumber', 'docType', 'docNumber', 'email', 'tsa_zip', 'tsa_city',\n",
       "       'tsa_province', 'loanPaidStatus', 'custLoanJourneyZipCode',\n",
       "       'custLoanJourneyCity', 'custLoanJourneyProvince', 'booking_date',\n",
       "       'natureofwork', 'industryDescription', 'subIndustryDescription'],\n",
       "      dtype='object')"
      ]
     },
     "execution_count": 4,
     "metadata": {},
     "output_type": "execute_result"
    }
   ],
   "source": [
    "# Check the columns\n",
    "dfr.columns"
   ]
  },
  {
   "cell_type": "code",
   "execution_count": 5,
   "metadata": {},
   "outputs": [
    {
     "name": "stdout",
     "output_type": "stream",
     "text": [
      "<class 'pandas.core.frame.DataFrame'>\n",
      "RangeIndex: 873 entries, 0 to 872\n",
      "Data columns (total 24 columns):\n",
      " #   Column                   Non-Null Count  Dtype  \n",
      "---  ------                   --------------  -----  \n",
      " 0   customerId               873 non-null    int64  \n",
      " 1   Source                   873 non-null    object \n",
      " 2   loanAccountNumber        0 non-null      float64\n",
      " 3   disbursedLoanAmount      0 non-null      float64\n",
      " 4   dateOfBirth              0 non-null      float64\n",
      " 5   name                     0 non-null      float64\n",
      " 6   mobileNo                 0 non-null      float64\n",
      " 7   Ref1_contact             0 non-null      float64\n",
      " 8   Ref2_contact             0 non-null      float64\n",
      " 9   tinNumber                0 non-null      float64\n",
      " 10  docType                  0 non-null      float64\n",
      " 11  docNumber                0 non-null      float64\n",
      " 12  email                    0 non-null      float64\n",
      " 13  tsa_zip                  0 non-null      float64\n",
      " 14  tsa_city                 0 non-null      float64\n",
      " 15  tsa_province             0 non-null      float64\n",
      " 16  loanPaidStatus           0 non-null      float64\n",
      " 17  custLoanJourneyZipCode   0 non-null      float64\n",
      " 18  custLoanJourneyCity      0 non-null      float64\n",
      " 19  custLoanJourneyProvince  0 non-null      float64\n",
      " 20  booking_date             0 non-null      float64\n",
      " 21  natureofwork             0 non-null      float64\n",
      " 22  industryDescription      0 non-null      float64\n",
      " 23  subIndustryDescription   0 non-null      float64\n",
      "dtypes: float64(22), int64(1), object(1)\n",
      "memory usage: 163.8+ KB\n"
     ]
    }
   ],
   "source": [
    "dfr.info()"
   ]
  },
  {
   "cell_type": "code",
   "execution_count": 6,
   "metadata": {},
   "outputs": [
    {
     "data": {
      "text/plain": [
       "(1367758, 1461778, 1431743, 1475857, 1489817)"
      ]
     },
     "execution_count": 6,
     "metadata": {},
     "output_type": "execute_result"
    }
   ],
   "source": [
    "a = tuple(dfr['customerId'])\n",
    "a[0:5]"
   ]
  },
  {
   "cell_type": "code",
   "execution_count": 7,
   "metadata": {},
   "outputs": [
    {
     "name": "stdout",
     "output_type": "stream",
     "text": [
      "select customerId, 'CDD' Source \n",
      ", loanAccountNumber\n",
      ", disbursedLoanAmount\n",
      ", dateOfBirth\n",
      ", firstName||''||middleName||''||lastName name\n",
      ", mobileNo \n",
      ", Ref1_contact\n",
      ", Ref2_contact\n",
      ", tinNumber\n",
      ", docType\n",
      ", docNumber\n",
      ", email\n",
      ", postalCode tsa_zip\n",
      ", city tsa_city\n",
      ", province tsa_province\n",
      ", loanPaidStatus\n",
      ", custLoanJourneyZipCode custLoanJourneyZipCode\n",
      ", custLoanJourneyCity\n",
      ", custLoanJourneyProvince\n",
      ", format_date('%Y-%m-%d',disbursementDateTime) booking_date\n",
      ", natureofwork\n",
      ", industryDescription\n",
      ", subIndustryDescription\n",
      "from `risk_credit_mis.loan_master_table` \n",
      "where customerId in (1367758, 1461778, 1431743, 1475857, 1489817, 1411620, 1471588, 1493352, 1298521, 1101858, 1499442, 1106080, 1500066, 1473771, 1510191, 1302396, 1494756, 1487706, 1440184, 1471961, 1294272, 1510217, 1501709, 1121308, 1460766, 1518900, 1510422, 1303276, 1521619, 1462667, 1516414, 1510303, 1499401, 1472564, 1481697, 1524083, 1517523, 1496876, 1501081, 1513128, 1511230, 1528285, 1466050, 1503741, 1527918, 1525611, 1527257, 1524852, 1400408, 1512062, 1522835, 1514172, 1527646, 1521428, 1527697, 1526750, 1519856, 1554508, 1529795, 1567991, 1518643, 1530121, 1595513, 1081744, 1098635, 1098863, 1099776, 1102209, 1102225, 1102913, 1103207, 1108585, 1109405, 1109806, 1112423, 1121774, 1127131, 1127622, 1130783, 1130856, 1130910, 1132279, 1135425, 1138140, 1139325, 1139841, 1139900, 1140050, 1140401, 1141625, 1141992, 1142319, 1142418, 1142420, 1143007, 1143119, 1143353, 1144093, 1144494, 1144603, 1144608, 1145290, 1147096, 1147107, 1147315, 1147411, 1147415, 1147588, 1148384, 1148479, 1148859, 1149086, 1150036, 1150112, 1150229, 1150241, 1150290, 1150294, 1150402, 1150417, 1150444, 1150452, 1150541, 1150584, 1150854, 1150866, 1150895, 1150915, 1150971, 1150998, 1151019, 1151033, 1151066, 1151091, 1151111, 1151244, 1151286, 1151297, 1151334, 1151348, 1151385, 1151442, 1151455, 1151544, 1151549, 1151565, 1151604, 1151607, 1151608, 1151614, 1151618, 1151623, 1151668, 1151724, 1151761, 1151799, 1151952, 1152080, 1152081, 1152331, 1152406, 1152556, 1152585, 1152592, 1152609, 1152611, 1152629, 1152670, 1152691, 1152700, 1152808, 1152838, 1152902, 1152907, 1152932, 1152982, 1153065, 1153118, 1153152, 1153181, 1153255, 1153257, 1153473, 1153501, 1153574, 1153590, 1153661, 1153678, 1153688, 1153695, 1153723, 1153727, 1153743, 1153754, 1153783, 1153809, 1153831, 1153856, 1153895, 1153903, 1153911, 1153918, 1153949, 1153951, 1153971, 1153984, 1154028, 1154124, 1154373, 1154398, 1154409, 1154418, 1154441, 1154456, 1154473, 1154496, 1154514, 1154552, 1154555, 1154633, 1154636, 1154738, 1154769, 1154771, 1154786, 1154855, 1154858, 1154873, 1154918, 1155037, 1155053, 1155063, 1155110, 1155114, 1155176, 1155189, 1155195, 1155197, 1155198, 1155261, 1155273, 1155293, 1155300, 1155357, 1155402, 1155451, 1155479, 1155540, 1155556, 1155562, 1155598, 1155693, 1155725, 1155853, 1155960, 1156395, 1156495, 1156524, 1156569, 1156571, 1156578, 1156689, 1156703, 1156773, 1156783, 1156811, 1156932, 1157005, 1157123, 1157166, 1157175, 1157283, 1157324, 1157356, 1157381, 1157410, 1157430, 1157451, 1157475, 1157478, 1157499, 1157540, 1157559, 1157561, 1157572, 1157638, 1157646, 1157647, 1157656, 1157683, 1157728, 1157863, 1157874, 1157880, 1157903, 1157905, 1157934, 1157937, 1157977, 1158013, 1158201, 1158223, 1158251, 1158269, 1158282, 1158313, 1158318, 1158346, 1158348, 1158584, 1158683, 1158688, 1158752, 1158785, 1159197, 1160570, 1162439, 1163163, 1163489, 1163947, 1165230, 1165538, 1167208, 1167743, 1168311, 1168571, 1169228, 1169598, 1170281, 1170596, 1087584, 1089007, 1089102, 1089974, 1090271, 1092437, 1094171, 1094630, 1094862, 1095324, 1097269, 1097896, 1099112, 1100565, 1101136, 1102573, 1103521, 1105023, 1108126, 1109108, 1109487, 1110168, 1111626, 1116831, 1117178, 1117555, 1117639, 1117807, 1118280, 1122923, 1123047, 1130284, 1130366, 1132533, 1133250, 1133306, 1133390, 1133443, 1133571, 1134199, 1135174, 1135415, 1135513, 1136319, 1136474, 1136569, 1136575, 1136639, 1136647, 1136979, 1137142, 1137360, 1137465, 1137755, 1137798, 1137828, 1137839, 1137917, 1137942, 1137967, 1138078, 1138115, 1138175, 1138297, 1138489, 1138540, 1138743, 1138896, 1138959, 1139173, 1139268, 1139335, 1139763, 1139873, 1139948, 1140621, 1140845, 1140858, 1140926, 1140947, 1140985, 1141000, 1141365, 1141379, 1141385, 1141393, 1141409, 1141418, 1141457, 1141464, 1141485, 1141492, 1141507, 1141539, 1141544, 1141562, 1141626, 1141721, 1141779, 1141813, 1141848, 1141869, 1141914, 1141960, 1141966, 1142036, 1142037, 1142294, 1142334, 1142344, 1142352, 1142391, 1142478, 1142577, 1142775, 1142860, 1142894, 1142964, 1143090, 1143124, 1143197, 1143198, 1143214, 1143230, 1143502, 1143573, 1143579, 1143603, 1143893, 1143908, 1143917, 1144085, 1144170, 1144272, 1144329, 1144360, 1144515, 1144550, 1144559, 1144642, 1144688, 1144704, 1144849, 1144869, 1144893, 1144901, 1145456, 1146349, 1146848, 1146922, 1146952, 1147074, 1147349, 1147421, 1147430, 1147575, 1147601, 1147654, 1147674, 1148162, 1148212, 1148258, 1148795, 1148801, 1148849, 1148912, 1149037, 1149123, 1149154, 1149289, 1149479, 1149486, 1150096, 1150318, 1150537, 1150712, 1150843, 1150911, 1150951, 1151103, 1151161, 1151263, 1151289, 1151313, 1151533, 1151578, 1151592, 1151629, 1151817, 1151897, 1152003, 1152334, 1152445, 1152738, 1152779, 1152790, 1152855, 1152874, 1152969, 1152996, 1153032, 1153115, 1153131, 1153178, 1153201, 1153273, 1153307, 1153341, 1153470, 1153482, 1153543, 1153637, 1153876, 1153937, 1154281, 1154297, 1154439, 1154539, 1154660, 1154805, 1154814, 1154930, 1154944, 1154971, 1155001, 1155032, 1155042, 1155301, 1155356, 1155392, 1155486, 1155657, 1155995, 1156523, 1156653, 1157080, 1157087, 1157095, 1157257, 1157286, 1157579, 1157661, 1157806, 1157886, 1157930, 1158391, 1158439, 1158687, 1158794, 1158848, 1158882, 1158883, 1159084, 1159093, 1159123, 1159140, 1159182, 1159212, 1159214, 1159237, 1159246, 1159253, 1159405, 1159535, 1159550, 1159598, 1159609, 1159623, 1159654, 1159813, 1159820, 1159902, 1159908, 1159944, 1159994, 1160039, 1160050, 1160051, 1160158, 1160190, 1160206, 1160222, 1160235, 1160237, 1160307, 1160317, 1160355, 1160378, 1160392, 1160406, 1160411, 1160458, 1160472, 1160502, 1160586, 1160625, 1160662, 1160679, 1160711, 1160736, 1160744, 1160766, 1160775, 1160792, 1160812, 1160827, 1160853, 1160873, 1160921, 1160937, 1160996, 1161035, 1161049, 1161082, 1161091, 1161103, 1161116, 1161233, 1161252, 1161274, 1161296, 1161299, 1161361, 1161410, 1161749, 1161774, 1161901, 1161937, 1161995, 1162015, 1162063, 1162150, 1162162, 1162231, 1162270, 1162291, 1162304, 1162381, 1162497, 1162548, 1162598, 1162639, 1162666, 1162711, 1162733, 1162792, 1162811, 1162834, 1162873, 1162919, 1163001, 1163100, 1163121, 1163181, 1163185, 1163237, 1163373, 1163411, 1163459, 1163469, 1163490, 1163503, 1163542, 1163640, 1163648, 1163695, 1163739, 1163766, 1163839, 1163854, 1163934, 1163961, 1163998, 1164005, 1164013, 1164026, 1164057, 1164142, 1164190, 1164198, 1164219, 1164540, 1164546, 1164583, 1164667, 1164713, 1164732, 1164746, 1164819, 1164835, 1164882, 1164890, 1164908, 1164939, 1164959, 1165039, 1165057, 1165092, 1165245, 1165280, 1165292, 1165297, 1165489, 1165528, 1165674, 1165728, 1165769, 1165810, 1165813, 1165856, 1165871, 1165930, 1165961, 1166021, 1166033, 1166101, 1166137, 1166193, 1166204, 1166303, 1166490, 1166529, 1166662, 1166897, 1166926, 1167026, 1167040, 1167181, 1167187, 1167205, 1167212, 1167234, 1167244, 1167262, 1167323, 1167353, 1167398, 1167401, 1167408, 1167447, 1167500, 1167540, 1167553, 1167557, 1167589, 1167622, 1167694, 1167738, 1167757, 1167760, 1167762, 1167811, 1167861, 1167865, 1167867, 1167948, 1167954, 1168088, 1168093, 1168115, 1168140, 1168156, 1168175, 1168208, 1168265, 1168275, 1168280, 1168319, 1168354, 1168380, 1168385, 1168402, 1168417, 1168460, 1168468, 1168503, 1168509, 1168516, 1168594, 1168595, 1168604, 1168624, 1168641, 1168650, 1168683, 1168716, 1168742, 1168763, 1168782, 1168785, 1168789, 1168854, 1168881, 1168921, 1168953, 1169001, 1169058, 1169076, 1169077, 1169086, 1169120, 1169147, 1169186, 1169224, 1169239, 1169346, 1169386, 1169388, 1169396, 1169424, 1169474, 1169554, 1169562, 1169629, 1169647, 1169681, 1169685, 1169697, 1169706, 1169719, 1169737, 1169793, 1169825, 1169855, 1169866, 1169922, 1169985, 1169995, 1170008, 1170052, 1170066, 1170138, 1170217, 1170226, 1170348, 1170368, 1170382, 1170399, 1170452, 1170484, 1170524, 1170667, 1170719)\n",
      "\n"
     ]
    }
   ],
   "source": [
    "sq = f\"\"\"select customerId, 'CDD' Source \n",
    ", loanAccountNumber\n",
    ", disbursedLoanAmount\n",
    ", dateOfBirth\n",
    ", firstName||''||middleName||''||lastName name\n",
    ", mobileNo \n",
    ", Ref1_contact\n",
    ", Ref2_contact\n",
    ", tinNumber\n",
    ", docType\n",
    ", docNumber\n",
    ", email\n",
    ", postalCode tsa_zip\n",
    ", city tsa_city\n",
    ", province tsa_province\n",
    ", loanPaidStatus\n",
    ", custLoanJourneyZipCode custLoanJourneyZipCode\n",
    ", custLoanJourneyCity\n",
    ", custLoanJourneyProvince\n",
    ", format_date('%Y-%m-%d',disbursementDateTime) booking_date\n",
    ", natureofwork\n",
    ", industryDescription\n",
    ", subIndustryDescription\n",
    "from `risk_credit_mis.loan_master_table` \n",
    "where customerId in {a}\n",
    "\"\"\"\n",
    "print(sq)"
   ]
  },
  {
   "cell_type": "code",
   "execution_count": 8,
   "metadata": {},
   "outputs": [
    {
     "name": "stdout",
     "output_type": "stream",
     "text": [
      "Job ID e26983f3-6fe8-4391-91e4-c319c159817c successfully executed: 100%|\u001b[32m██████████\u001b[0m|\n",
      "Downloading: 100%|\u001b[32m██████████\u001b[0m|\n"
     ]
    }
   ],
   "source": [
    "df = client.query(sq).to_dataframe(progress_bar_type = 'tqdm')"
   ]
  },
  {
   "cell_type": "code",
   "execution_count": 9,
   "metadata": {},
   "outputs": [
    {
     "name": "stdout",
     "output_type": "stream",
     "text": [
      "The shape of the df are:\t(882, 24)\n"
     ]
    }
   ],
   "source": [
    "print(f\"The shape of the df are:\\t{df.shape}\")"
   ]
  },
  {
   "cell_type": "code",
   "execution_count": 10,
   "metadata": {},
   "outputs": [],
   "source": [
    "df.to_excel(\"Anti-Fraud Ops Request l3FEB24_data.xlsx\", sheet_name='rawdata', index = False)"
   ]
  },
  {
   "cell_type": "code",
   "execution_count": null,
   "metadata": {},
   "outputs": [],
   "source": []
  }
 ],
 "metadata": {
  "kernelspec": {
   "display_name": "prjreports",
   "language": "python",
   "name": "python3"
  },
  "language_info": {
   "codemirror_mode": {
    "name": "ipython",
    "version": 3
   },
   "file_extension": ".py",
   "mimetype": "text/x-python",
   "name": "python",
   "nbconvert_exporter": "python",
   "pygments_lexer": "ipython3",
   "version": "3.9.10"
  }
 },
 "nbformat": 4,
 "nbformat_minor": 2
}
