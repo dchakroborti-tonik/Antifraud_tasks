{
 "cells": [
  {
   "cell_type": "markdown",
   "metadata": {},
   "source": [
    "# We would like to request for the extraction of all accounts with HUMAYAO LANGKAAN II CITY OF DASMARINAS CAVITE (zip code 4114) as their declared TSA address. We noticed a suspicious account with this information, and we would like to review all other accounts with similar address."
   ]
  },
  {
   "cell_type": "markdown",
   "metadata": {},
   "source": [
    "## Import Libraries"
   ]
  },
  {
   "cell_type": "code",
   "execution_count": 1,
   "metadata": {},
   "outputs": [],
   "source": [
    "import pandas as pd \n",
    "import numpy as np \n",
    "\n",
    "from google.cloud import bigquery\n",
    "import os \n",
    "\n",
    "path = r\"C:\\Users\\DwaipayanChakroborti\\AppData\\Roaming\\gcloud\\legacy_credentials\\dchakroborti@tonikbank.com\\adc.json\"\n",
    "\n",
    "os.environ[\"GOOGLE_APPLICATION_CREDENTIALS\"] = path\n",
    "client = bigquery.Client(project=\"prj-prod-dataplatform\")"
   ]
  },
  {
   "cell_type": "code",
   "execution_count": 3,
   "metadata": {},
   "outputs": [
    {
     "name": "stdout",
     "output_type": "stream",
     "text": [
      "Job ID d4334ff2-62e8-4e83-be48-fdf8b7f0b752 successfully executed: 100%|\u001b[32m██████████\u001b[0m|\n",
      "Downloading: 100%|\u001b[32m██████████\u001b[0m|\n",
      "The shape of Dataframe extracted is:\t(1167, 18)\n"
     ]
    }
   ],
   "source": [
    "sq = \"\"\" \n",
    "select postalCode\n",
    ", customerId\n",
    ", digitalLoanAccountId\n",
    ", loanAccountNumber\n",
    ", firstName||''||middleName||''||lastName Customername\n",
    ", format_date('%Y-%m-%d', startInitiateDateTime) Application_date\n",
    ", upper(coalesce(TSA_company_name, 'NA')) companyname\n",
    ", firstDueDate\n",
    ", currentDelinquency\n",
    ", loanPaidStatus\n",
    ", applicationStatus\n",
    ", flagApproval\n",
    ", flagDisbursement\n",
    ", flagRejection\n",
    ", rejectedReason\n",
    ", city\n",
    ", barangay\n",
    ", province\n",
    "from `risk_credit_mis.loan_master_table` where postalCode = '4114'\n",
    "and flagDisbursement = 1\n",
    "\"\"\"\n",
    "\n",
    "df = client.query(sq).to_dataframe(progress_bar_type='tqdm')\n",
    "print(f\"The shape of Dataframe extracted is:\\t{df.shape}\")"
   ]
  },
  {
   "cell_type": "code",
   "execution_count": 4,
   "metadata": {},
   "outputs": [],
   "source": [
    "df.to_excel(r\"HUMAYAOLANGKAANIICITYOFDASMARINASCAVITE_loanaccountnumbers_20231025.xlsx\", index = False)"
   ]
  },
  {
   "cell_type": "markdown",
   "metadata": {},
   "source": [
    "## TSA Data"
   ]
  },
  {
   "cell_type": "code",
   "execution_count": 2,
   "metadata": {},
   "outputs": [
    {
     "name": "stdout",
     "output_type": "stream",
     "text": [
      "Job ID 0bdd330a-885b-406c-9916-f85d379a0b61 successfully executed: 100%|\u001b[32m██████████\u001b[0m|\n",
      "Downloading: 100%|\u001b[32m██████████\u001b[0m|\n"
     ]
    }
   ],
   "source": [
    "sq = \"\"\"select Zipcode postalCode\n",
    ", customerId\n",
    ", Account_Number\n",
    ", Account_Type\n",
    ", Mobile_Number\n",
    ", First_Name||''||Middle_Name||''||Last_Name Customername\n",
    ", upper(coalesce(Company_Name, 'NA')) companyname\n",
    ", City_Municipality\n",
    ", barangay\n",
    ", province\n",
    "from prj-prod-dataplatform.marketing.tsa_funnel where Zipcode = 4114;\"\"\"\n",
    "\n",
    "df = client.query(sq).to_dataframe(progress_bar_type='tqdm')\n"
   ]
  },
  {
   "cell_type": "code",
   "execution_count": 3,
   "metadata": {},
   "outputs": [],
   "source": [
    "df.to_excel(\"HUMAYAOLANGKAANIICITYOFDASMARINASCAVITE_20231026.xlsx\", index = False)"
   ]
  },
  {
   "cell_type": "code",
   "execution_count": 4,
   "metadata": {},
   "outputs": [
    {
     "name": "stdout",
     "output_type": "stream",
     "text": [
      "Job ID c26852ff-daeb-4543-b215-51a0aa2cd8f5 successfully executed: 100%|\u001b[32m██████████\u001b[0m|\n",
      "Downloading: 100%|\u001b[32m██████████\u001b[0m|\n"
     ]
    }
   ],
   "source": [
    "sq = \"\"\"select * from prj-prod-dataplatform.dl_customers_db_raw.tdbk_customer_add_mtb\n",
    "where cur_postalcode = '4114'\n",
    "union distinct\n",
    "(select * from prj-prod-dataplatform.dl_customers_db_raw.tdbk_customer_add_mtb\n",
    "where hm_postalcode = '4114')\n",
    "union distinct\n",
    "(select * from prj-prod-dataplatform.dl_customers_db_raw.tdbk_customer_add_mtb\n",
    "where ofw_hm_zipcode = '4114')\"\"\"\n",
    "\n",
    "df = client.query(sq).to_dataframe(progress_bar_type='tqdm')"
   ]
  },
  {
   "cell_type": "code",
   "execution_count": 5,
   "metadata": {},
   "outputs": [],
   "source": [
    "df.to_excel(\"Allcustomerdatafromdifferentaddresstypesforzipcode4114.xlsx\", index = False)"
   ]
  },
  {
   "cell_type": "code",
   "execution_count": null,
   "metadata": {},
   "outputs": [],
   "source": []
  }
 ],
 "metadata": {
  "kernelspec": {
   "display_name": "prjfraudscore",
   "language": "python",
   "name": "python3"
  },
  "language_info": {
   "codemirror_mode": {
    "name": "ipython",
    "version": 3
   },
   "file_extension": ".py",
   "mimetype": "text/x-python",
   "name": "python",
   "nbconvert_exporter": "python",
   "pygments_lexer": "ipython3",
   "version": "3.8.12"
  }
 },
 "nbformat": 4,
 "nbformat_minor": 2
}
