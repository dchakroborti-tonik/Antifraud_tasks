{
 "cells": [
  {
   "cell_type": "markdown",
   "metadata": {},
   "source": [
    "#  extract ALL Fund Transfer transactions of the accounts in the attached file"
   ]
  },
  {
   "cell_type": "markdown",
   "metadata": {},
   "source": [
    "Hi @Gaurav and Team,\n",
    "\n",
    " \n",
    "\n",
    " \n",
    "\n",
    "Good morning.\n",
    "\n",
    " \n",
    "\n",
    "Can you please help us extract ALL Fund Transfer transactions of the accounts in the attached file from Oct. 01, 2023 to Oct. 31, 2023?\n",
    "\n",
    " \n",
    "\n",
    "We are reviewing our current AML High Velocity rules in JIRA and we would need the ff. data. Thank you!\n",
    "\n",
    " \n",
    "\n",
    "TSA\n",
    "Transaction Amount\n",
    "Transaction Created Date\n",
    "Transaction Type (debit/credit)\n",
    " \n",
    "\n",
    " \n",
    "\n",
    "Regards,\n",
    "\n",
    "Mela"
   ]
  },
  {
   "cell_type": "markdown",
   "metadata": {},
   "source": [
    "## Import libraries"
   ]
  },
  {
   "cell_type": "code",
   "execution_count": 1,
   "metadata": {},
   "outputs": [],
   "source": [
    "# Import Libraries\n",
    "\n",
    "import pandas as pd \n",
    "import numpy as np \n",
    "\n",
    "from google.cloud import bigquery\n",
    "import os\n",
    "\n",
    "path = r\"C:\\Users\\DwaipayanChakroborti\\AppData\\Roaming\\gcloud\\legacy_credentials\\dchakroborti@tonikbank.com\\adc.json\"\n",
    "\n",
    "os.environ[\"GOOGLE_APPLICATION_CREDENTIALS\"] = path\n",
    "client = bigquery.Client(project=\"prj-prod-dataplatform\")"
   ]
  },
  {
   "cell_type": "code",
   "execution_count": 3,
   "metadata": {},
   "outputs": [
    {
     "name": "stdout",
     "output_type": "stream",
     "text": [
      "Data downloaded to dfread. The rows and columns in data are:\t (787, 5)\n"
     ]
    }
   ],
   "source": [
    "dfread = pd.read_excel(r\"D:\\MyStuff\\Mela Sombillo csombillo1@tonikbank.com\\all TSA and loan clients with topupscashinsusingDebitCard\\Anti-Fraud Ops Request_18DEC23.xlsx\", sheet_name='DS Request (Oct. 2023 Data)')\n",
    "print(f\"Data downloaded to dfread. The rows and columns in data are:\\t {dfread.shape}\")"
   ]
  },
  {
   "cell_type": "code",
   "execution_count": 4,
   "metadata": {},
   "outputs": [
    {
     "data": {
      "text/plain": [
       "Index(['PID', 'TSA', 'Transaction Amount', 'Transaction Created Date',\n",
       "       'Transaction Type (debit/credit)'],\n",
       "      dtype='object')"
      ]
     },
     "execution_count": 4,
     "metadata": {},
     "output_type": "execute_result"
    }
   ],
   "source": [
    "dfread.columns"
   ]
  },
  {
   "cell_type": "code",
   "execution_count": 14,
   "metadata": {},
   "outputs": [
    {
     "name": "stdout",
     "output_type": "stream",
     "text": [
      "<class 'pandas.core.frame.DataFrame'>\n",
      "RangeIndex: 787 entries, 0 to 786\n",
      "Data columns (total 5 columns):\n",
      " #   Column                           Non-Null Count  Dtype  \n",
      "---  ------                           --------------  -----  \n",
      " 0   PID                              787 non-null    int64  \n",
      " 1   TSA                              0 non-null      float64\n",
      " 2   Transaction Amount               0 non-null      float64\n",
      " 3   Transaction Created Date         0 non-null      float64\n",
      " 4   Transaction Type (debit/credit)  0 non-null      float64\n",
      "dtypes: float64(4), int64(1)\n",
      "memory usage: 30.9 KB\n"
     ]
    }
   ],
   "source": [
    "dfread.info()"
   ]
  },
  {
   "cell_type": "code",
   "execution_count": 16,
   "metadata": {},
   "outputs": [],
   "source": [
    "dfread['PID'] = dfread['PID'].astype(str)"
   ]
  },
  {
   "cell_type": "code",
   "execution_count": 17,
   "metadata": {},
   "outputs": [
    {
     "name": "stdout",
     "output_type": "stream",
     "text": [
      "('1300639', '1111203', '1109895', '1086632', '1011901', '1103320', '1008748', '1088469', '1010092', '1635105', '2128061', '1069334', '1039739', '1001170', '1005197', '1857164', '1067929', '1033042', '1172353', '2236878', '1034626', '1493620', '1423446', '1012078', '2220521', '1020526', '1205846', '1020482', '1004297', '1217826', '1086586', '1016727', '1006465', '1004436', '1269149', '1605864', '1056644', '1017684', '1082113', '1080762', '1374499', '1002167', '1213794', '1419682', '1070582', '1591328', '1025770', '1084018', '1014300', '2163367', '1211513', '1047902', '1052329', '2096198', '1772256', '1623374', '1005620', '1013292', '1012769', '1016136', '1063095', '1074695', '1285794', '1192843', '1111093', '1091012', '1090732', '1041154', '1197989', '2022146', '1566620', '1154335', '1205590', '1017955', '1002221', '1075106', '1008245', '1000140', '1345746', '1018960', '1055454', '2066026', '1425143', '1085336', '1045819', '2046262', '1193190', '1016371', '1033793', '1082875', '1075155', '1014681', '1234158', '1006632', '1189808', '1014430', '1088763', '1093809', '1001052', '1129423', '1006791', '1030240', '1091245', '1107719', '2251823', '1028648', '1091503', '1099098', '1066055', '1242620', '1083210', '1655255', '1003326', '1029395', '2258577', '2148368', '2087765', '1862906', '1002690', '1416990', '1021881', '1297382', '1026116', '1000730', '1979924', '2072171', '1921916', '1025964', '2258740', '2021465', '1037637', '1019208', '1997493', '1062104', '2162798', '1959951', '1248647', '1025293', '1008616', '1505430', '1216997', '1624628', '1088009', '1337085', '1007994', '2250929', '1247963', '1384755', '1080090', '1013471', '1457821', '1089530', '1091256', '1833146', '1224325', '1051880', '1080492', '1802407', '1414826', '1088316', '1061853', '1352146', '1228792', '1037322', '1022791', '1662996', '1513990', '1193637', '1272112', '1216169', '1089839', '1298043', '1135751', '1709050', '1097496', '1050564', '1029088', '1660671', '1076273', '1036974', '1878281', '1297975', '1345083', '1000173', '2189141', '1243206', '1050410', '1253058', '1008338', '1092043', '1066897', '1052635', '1275919', '1054236', '2257676', '1060959', '1063576', '1261814', '1519752', '1023423', '1167834', '1129409', '1136965', '1031814', '1024534', '1023119', '1012114', '1029327', '1011845', '1019111', '2173853', '1223660', '1741145', '1343640', '1254886', '1257557', '1087535', '1000192', '1046331', '1211703', '1091940', '1023782', '1025512', '1023155', '1007067', '1559740', '1467931', '1014909', '2234112', '1045960', '1062815', '1046278', '1303373', '1183199', '1077889', '1225424', '1255605', '1484461', '1214358', '1058883', '1024682', '1180590', '1083455', '1272267', '1091620', '1052123', '1178603', '1012289', '1339269', '1030722', '2053287', '2069026', '2094978', '1275943', '1091755', '1018783', '1048885', '1105370', '1137374', '2165560', '1005164', '1226811', '1966614', '1104404', '1263463', '1000430', '1032678', '1309165', '1295306', '1030888', '1004116', '1011889', '1002223', '1509184', '1805483', '1046031', '1018839', '1037222', '1099375', '1205382', '1023507', '1330874', '1010437', '1064483', '1012691', '1959010', '1076376', '1011125', '1069360', '1060656', '1041484', '1434018', '1024531', '1017249', '1026764', '1035149', '1632968', '1352032', '1001605', '1015534', '1557377', '1084988', '1623574', '1103828', '1404904', '1881382', '1007390', '1084579', '1304507', '1936566', '1468372', '1225984', '1007662', '1273424', '2065278', '1017765', '1505685', '1429899', '1071059', '1026381', '1962214', '1070771', '1415265', '1006484', '1034987', '1024304', '1590966', '1315039', '1639085', '1090578', '1785555', '1178646', '1018077', '1961096', '2078713', '1078913', '1039648', '1002946', '2251561', '1285413', '1425947', '1041867', '1001931', '1000714', '1005976', '1001586', '1205945', '1053816', '2122116', '1088650', '1005584', '1023422', '1057819', '1053741', '2085269', '1021330', '2246132', '1067444', '1120724', '1028776', '1078864', '1020764', '1645727', '1005894', '1073463', '1042378', '1969207', '1083184', '1130606', '1441560', '1098539', '2013127', '1867449', '1785234', '1978619', '1954188', '1962975', '1093858', '1416363', '1092546', '1216129', '1042516', '1001553', '2076808', '1867529', '1317856', '1300207', '1223481', '2017326', '1020062', '1306726', '1027413', '1017638', '1268395', '1027229', '1580123', '1072322', '2140809', '1781679', '1008580', '1063086', '1274653', '1336983', '1022625', '1264826', '1006282', '1087434', '1184872', '1024623', '1547924', '1213793', '1991974', '1297823', '1993469', '1029601', '1793181', '1245267', '1304413', '1005683', '2209576', '1419828', '1238797', '1072448', '1043449', '1317293', '1017811', '1080785', '1492036', '1533429', '1377916', '1253093', '1007047', '1305456', '1214942', '1128465', '1080142', '1388542', '1023059', '1002516', '1076550', '1002973', '1005486', '1083240', '1024845', '1424018', '1023555', '1179053', '1305798', '2128803', '1255083', '1233268', '1024171', '1210008', '1022827', '2256432', '1070348', '1592631', '1052629', '1006938', '1222055', '1089127', '1213205', '1004324', '2236718', '1015089', '1284944', '1059231', '1019055', '1029644', '1668843', '1574642', '1138634', '1216770', '1212839', '1388126', '1325871', '1439774', '1468614', '1069025', '1047311', '1007916', '1302139', '1231666', '1034219', '1021402', '1058967', '1288727', '1904316', '1658464', '1435677', '1023149', '1239483', '1194503', '1992554', '1533454', '1931712', '1542262', '1005329', '1880691', '1216202', '1018361', '2092303', '1188464', '1119735', '1023632', '1023258', '1241777', '1023984', '1238756', '1075943', '1019602', '1092074', '1030350', '1768283', '1427063', '1007492', '1043358', '1329679', '2110027', '1041078', '1063710', '1961340', '1407529', '2098950', '1970647', '1020872', '1035598', '2007923', '1061272', '1016630', '1028477', '1309625', '2061225', '2247266', '1421690', '1026319', '1454909', '1268263', '1289561', '1249947', '1025764', '1020568', '1228411', '1088161', '1028156', '1023139', '1381866', '1006589', '1006693', '1306979', '1053578', '1598044', '1650608', '1060973', '1028607', '2276705', '1265286', '2174821', '1042011', '1203414', '1995055', '1024109', '1029066', '1436826', '1034956', '1231900', '2023366', '1015310', '1860053', '1037556', '1909482', '1301783', '1164945', '1028362', '1434041', '1423525', '1081213', '1019785', '1436115', '1016513', '1218807', '2270379', '1019874', '1052744', '1021948', '1022985', '1149572', '1500871', '1420277', '1022107', '1226723', '1172810', '1867004', '1099057', '1106461', '1083284', '1045187', '1002369', '1215925', '1085379', '1048626', '1118895', '1455842', '1001674', '1001709', '1226202', '1375036', '1085143', '1521077', '1032620', '1067971', '1980151', '1679177', '1994776', '1351839', '1488265', '1385340', '1016843', '1058795', '1181795', '1999718', '2119409', '1341139', '1228815', '1309633', '1000874', '1086686', '1092312', '1050881', '1014328', '1959027', '1033814', '2272269', '1402885', '2274426', '1673712', '1267358', '1068334', '1009072', '1664071', '1027963', '1034431', '1000285', '1002239', '2037993', '1089496', '1388055', '1791655', '2113453', '1037977', '1175331', '1084477', '1022050', '1216636', '1083527', '1001105', '1111705', '1227717', '1421729', '2273321', '1187860', '1844280', '1228940', '1185065', '1024836', '1533421', '1076397', '1022181', '1004977', '1708616', '1025011', '1012748', '1009189', '2161159', '1246949', '1068672', '1065182', '1186494', '1086395', '2225524', '1128134', '2121635', '1500147', '2257856', '1026413', '2281883', '1913662', '1119692', '1023329', '1477781', '1029742', '1004746', '1619234', '1153231', '1004559', '1029986', '1239301', '2104465', '1016262', '1009265', '1074249', '1010295', '1541701', '1103909', '1026275', '2177875', '2038260', '1740931', '1091521', '1923635', '1018797', '1060097', '1030479', '1020905', '1008987', '1008490', '1251519', '1085461', '1015127', '1085506', '2242053', '1381801', '2012477', '1002321', '1001528', '1062565', '1048603', '1004321', '1204632', '1997580', '1474905', '1274949', '1386512', '1319764', '1995148', '2214155', '1395017', '1085698', '1693104', '1043012', '1254475', '1219375', '1004866', '1424359', '1067954', '1023458', '1335960', '1072048', '1078902', '1249836', '2008845', '1468481', '1255970', '1429994', '1073261', '1030149', '1024583', '1042405', '2289349', '1001773', '1109592', '1002662', '1084215', '1023229', '1494645', '2204446', '1032390', '1090977', '1020433', '1259332', '1024798', '1054896', '1037664', '1030788', '2005254', '1073259', '1974245', '1109759', '1942077', '1032560', '2096003', '1002695', '1089009', '1078769', '1000780', '1067632', '1105416')\n"
     ]
    }
   ],
   "source": [
    "a = tuple(dfread['PID'])\n",
    "print(a)"
   ]
  },
  {
   "cell_type": "code",
   "execution_count": 18,
   "metadata": {},
   "outputs": [],
   "source": [
    "# Query\n",
    "\n",
    "sq = f\"\"\"\n",
    "select cust_id\n",
    ", tsaaccountnumber\n",
    ", to_account_no\n",
    ", txn_ts\n",
    ", status\n",
    ", trx_amount\n",
    ", trx_fee_amount \n",
    ", total_trx_amount\n",
    ", trx_type\n",
    ", transfervia\n",
    ", transfer_description\n",
    ", error_details\n",
    ", merchant_name\n",
    ", channel\n",
    ", subchannel\n",
    " from prj-prod-dataplatform.risk_credit_mis.channel_transactions\n",
    " where date(txn_ts) between '2023-10-01' and '2023-10-31'\n",
    " and cust_id in {a}\n",
    " ;\n",
    " \"\"\"\n",
    " \n",
    " "
   ]
  },
  {
   "cell_type": "code",
   "execution_count": 19,
   "metadata": {},
   "outputs": [
    {
     "name": "stdout",
     "output_type": "stream",
     "text": [
      "\n",
      "\u001b[A\n",
      "\u001b[A\n",
      "\u001b[A\n",
      "Job ID de367fe7-3ac8-4f84-8a32-3a6801ee4adc successfully executed: 100%|\u001b[32m██████████\u001b[0m|\n",
      "\n",
      "\u001b[A\n",
      "\u001b[A\n",
      "Downloading: 100%|\u001b[32m██████████\u001b[0m|\n",
      "Query is running:   0%|\u001b[32m          \u001b[0m|\n",
      "Query is running:   0%|\u001b[32m          \u001b[0m|\n",
      "The rows and columns in DataFrame df is:\t(12637, 15)\n"
     ]
    }
   ],
   "source": [
    "# Run the query to extract Data\n",
    "\n",
    "df = client.query(sq).to_dataframe(progress_bar_type='tqdm')\n",
    "print(f\"The rows and columns in DataFrame df is:\\t{df.shape}\")"
   ]
  },
  {
   "cell_type": "code",
   "execution_count": 21,
   "metadata": {},
   "outputs": [
    {
     "data": {
      "text/html": [
       "<div>\n",
       "<style scoped>\n",
       "    .dataframe tbody tr th:only-of-type {\n",
       "        vertical-align: middle;\n",
       "    }\n",
       "\n",
       "    .dataframe tbody tr th {\n",
       "        vertical-align: top;\n",
       "    }\n",
       "\n",
       "    .dataframe thead th {\n",
       "        text-align: right;\n",
       "    }\n",
       "</style>\n",
       "<table border=\"1\" class=\"dataframe\">\n",
       "  <thead>\n",
       "    <tr style=\"text-align: right;\">\n",
       "      <th></th>\n",
       "      <th>cust_id</th>\n",
       "      <th>tsaaccountnumber</th>\n",
       "      <th>to_account_no</th>\n",
       "      <th>txn_ts</th>\n",
       "      <th>status</th>\n",
       "      <th>trx_amount</th>\n",
       "      <th>trx_fee_amount</th>\n",
       "      <th>total_trx_amount</th>\n",
       "      <th>trx_type</th>\n",
       "      <th>transfervia</th>\n",
       "      <th>transfer_description</th>\n",
       "      <th>error_details</th>\n",
       "      <th>merchant_name</th>\n",
       "      <th>channel</th>\n",
       "      <th>subchannel</th>\n",
       "    </tr>\n",
       "  </thead>\n",
       "  <tbody>\n",
       "    <tr>\n",
       "      <th>11544</th>\n",
       "      <td>2098950</td>\n",
       "      <td>60820989500002</td>\n",
       "      <td>60820989500002</td>\n",
       "      <td>2023-10-22 14:38:36</td>\n",
       "      <td>Success</td>\n",
       "      <td>860.0</td>\n",
       "      <td>NaN</td>\n",
       "      <td>860.0</td>\n",
       "      <td>CREDIT</td>\n",
       "      <td>instapay</td>\n",
       "      <td>None</td>\n",
       "      <td>None</td>\n",
       "      <td>None</td>\n",
       "      <td>InstaPay</td>\n",
       "      <td>G-Xchange/GCash</td>\n",
       "    </tr>\n",
       "    <tr>\n",
       "      <th>6067</th>\n",
       "      <td>1098539</td>\n",
       "      <td>60810985390008</td>\n",
       "      <td>60810985390008</td>\n",
       "      <td>2023-10-31 19:06:56</td>\n",
       "      <td>Success</td>\n",
       "      <td>2700.0</td>\n",
       "      <td>NaN</td>\n",
       "      <td>2700.0</td>\n",
       "      <td>CREDIT</td>\n",
       "      <td>instapay</td>\n",
       "      <td>None</td>\n",
       "      <td>None</td>\n",
       "      <td>None</td>\n",
       "      <td>InstaPay</td>\n",
       "      <td>Seabank</td>\n",
       "    </tr>\n",
       "    <tr>\n",
       "      <th>11717</th>\n",
       "      <td>1407529</td>\n",
       "      <td>60814075290001</td>\n",
       "      <td>09318610744</td>\n",
       "      <td>2023-10-22 17:59:27</td>\n",
       "      <td>Success</td>\n",
       "      <td>300.0</td>\n",
       "      <td>0.0</td>\n",
       "      <td>300.0</td>\n",
       "      <td>DEBIT</td>\n",
       "      <td>instapay</td>\n",
       "      <td>None</td>\n",
       "      <td>000001</td>\n",
       "      <td>None</td>\n",
       "      <td>InstaPay</td>\n",
       "      <td>G-Xchange/GCash</td>\n",
       "    </tr>\n",
       "    <tr>\n",
       "      <th>8906</th>\n",
       "      <td>2005254</td>\n",
       "      <td>60820052540008</td>\n",
       "      <td>60820052540008</td>\n",
       "      <td>2023-10-29 12:06:28</td>\n",
       "      <td>Success</td>\n",
       "      <td>2985.0</td>\n",
       "      <td>NaN</td>\n",
       "      <td>2985.0</td>\n",
       "      <td>CREDIT</td>\n",
       "      <td>instapay</td>\n",
       "      <td>None</td>\n",
       "      <td>None</td>\n",
       "      <td>None</td>\n",
       "      <td>InstaPay</td>\n",
       "      <td>G-Xchange/GCash</td>\n",
       "    </tr>\n",
       "    <tr>\n",
       "      <th>5473</th>\n",
       "      <td>2046262</td>\n",
       "      <td>60820462620002</td>\n",
       "      <td>09397282301</td>\n",
       "      <td>2023-10-28 17:17:40</td>\n",
       "      <td>Success</td>\n",
       "      <td>380.0</td>\n",
       "      <td>0.0</td>\n",
       "      <td>380.0</td>\n",
       "      <td>DEBIT</td>\n",
       "      <td>instapay</td>\n",
       "      <td>None</td>\n",
       "      <td>000001</td>\n",
       "      <td>None</td>\n",
       "      <td>InstaPay</td>\n",
       "      <td>G-Xchange/GCash</td>\n",
       "    </tr>\n",
       "    <tr>\n",
       "      <th>7045</th>\n",
       "      <td>2257856</td>\n",
       "      <td>60822578560003</td>\n",
       "      <td>09237439391</td>\n",
       "      <td>2023-10-30 09:14:48</td>\n",
       "      <td>Success</td>\n",
       "      <td>420.0</td>\n",
       "      <td>0.0</td>\n",
       "      <td>420.0</td>\n",
       "      <td>DEBIT</td>\n",
       "      <td>instapay</td>\n",
       "      <td>None</td>\n",
       "      <td>000001</td>\n",
       "      <td>None</td>\n",
       "      <td>InstaPay</td>\n",
       "      <td>G-Xchange/GCash</td>\n",
       "    </tr>\n",
       "    <tr>\n",
       "      <th>8729</th>\n",
       "      <td>2281883</td>\n",
       "      <td>60822818830007</td>\n",
       "      <td>09474769629</td>\n",
       "      <td>2023-10-29 13:55:13</td>\n",
       "      <td>Success</td>\n",
       "      <td>500.0</td>\n",
       "      <td>0.0</td>\n",
       "      <td>500.0</td>\n",
       "      <td>DEBIT</td>\n",
       "      <td>instapay</td>\n",
       "      <td>None</td>\n",
       "      <td>000001</td>\n",
       "      <td>None</td>\n",
       "      <td>InstaPay</td>\n",
       "      <td>G-Xchange/GCash</td>\n",
       "    </tr>\n",
       "    <tr>\n",
       "      <th>3266</th>\n",
       "      <td>2148368</td>\n",
       "      <td>60821483680005</td>\n",
       "      <td>047010013232</td>\n",
       "      <td>2023-10-27 23:29:41</td>\n",
       "      <td>Success</td>\n",
       "      <td>418.0</td>\n",
       "      <td>0.0</td>\n",
       "      <td>418.0</td>\n",
       "      <td>DEBIT</td>\n",
       "      <td>instapay</td>\n",
       "      <td>None</td>\n",
       "      <td>000001</td>\n",
       "      <td>None</td>\n",
       "      <td>InstaPay</td>\n",
       "      <td>Asia United Bank Corporation</td>\n",
       "    </tr>\n",
       "    <tr>\n",
       "      <th>7771</th>\n",
       "      <td>2128061</td>\n",
       "      <td>60821280610009</td>\n",
       "      <td>09106741220</td>\n",
       "      <td>2023-10-23 20:30:13</td>\n",
       "      <td>Success</td>\n",
       "      <td>21.0</td>\n",
       "      <td>0.0</td>\n",
       "      <td>21.0</td>\n",
       "      <td>DEBIT</td>\n",
       "      <td>instapay</td>\n",
       "      <td>None</td>\n",
       "      <td>000001</td>\n",
       "      <td>None</td>\n",
       "      <td>InstaPay</td>\n",
       "      <td>G-Xchange/GCash</td>\n",
       "    </tr>\n",
       "    <tr>\n",
       "      <th>9698</th>\n",
       "      <td>1111705</td>\n",
       "      <td>60811117050002</td>\n",
       "      <td>60811117050002</td>\n",
       "      <td>2023-10-13 08:07:58</td>\n",
       "      <td>Success</td>\n",
       "      <td>50000.0</td>\n",
       "      <td>NaN</td>\n",
       "      <td>50000.0</td>\n",
       "      <td>CREDIT</td>\n",
       "      <td>instapay</td>\n",
       "      <td>None</td>\n",
       "      <td>None</td>\n",
       "      <td>None</td>\n",
       "      <td>InstaPay</td>\n",
       "      <td>Philippine National Bank (PNB)</td>\n",
       "    </tr>\n",
       "  </tbody>\n",
       "</table>\n",
       "</div>"
      ],
      "text/plain": [
       "       cust_id tsaaccountnumber   to_account_no              txn_ts   status  \\\n",
       "11544  2098950   60820989500002  60820989500002 2023-10-22 14:38:36  Success   \n",
       "6067   1098539   60810985390008  60810985390008 2023-10-31 19:06:56  Success   \n",
       "11717  1407529   60814075290001     09318610744 2023-10-22 17:59:27  Success   \n",
       "8906   2005254   60820052540008  60820052540008 2023-10-29 12:06:28  Success   \n",
       "5473   2046262   60820462620002     09397282301 2023-10-28 17:17:40  Success   \n",
       "7045   2257856   60822578560003     09237439391 2023-10-30 09:14:48  Success   \n",
       "8729   2281883   60822818830007     09474769629 2023-10-29 13:55:13  Success   \n",
       "3266   2148368   60821483680005    047010013232 2023-10-27 23:29:41  Success   \n",
       "7771   2128061   60821280610009     09106741220 2023-10-23 20:30:13  Success   \n",
       "9698   1111705   60811117050002  60811117050002 2023-10-13 08:07:58  Success   \n",
       "\n",
       "       trx_amount  trx_fee_amount  total_trx_amount trx_type transfervia  \\\n",
       "11544       860.0             NaN             860.0   CREDIT    instapay   \n",
       "6067       2700.0             NaN            2700.0   CREDIT    instapay   \n",
       "11717       300.0             0.0             300.0    DEBIT    instapay   \n",
       "8906       2985.0             NaN            2985.0   CREDIT    instapay   \n",
       "5473        380.0             0.0             380.0    DEBIT    instapay   \n",
       "7045        420.0             0.0             420.0    DEBIT    instapay   \n",
       "8729        500.0             0.0             500.0    DEBIT    instapay   \n",
       "3266        418.0             0.0             418.0    DEBIT    instapay   \n",
       "7771         21.0             0.0              21.0    DEBIT    instapay   \n",
       "9698      50000.0             NaN           50000.0   CREDIT    instapay   \n",
       "\n",
       "      transfer_description error_details merchant_name   channel  \\\n",
       "11544                 None          None          None  InstaPay   \n",
       "6067                  None          None          None  InstaPay   \n",
       "11717                 None        000001          None  InstaPay   \n",
       "8906                  None          None          None  InstaPay   \n",
       "5473                  None        000001          None  InstaPay   \n",
       "7045                  None        000001          None  InstaPay   \n",
       "8729                  None        000001          None  InstaPay   \n",
       "3266                  None        000001          None  InstaPay   \n",
       "7771                  None        000001          None  InstaPay   \n",
       "9698                  None          None          None  InstaPay   \n",
       "\n",
       "                           subchannel  \n",
       "11544                 G-Xchange/GCash  \n",
       "6067                          Seabank  \n",
       "11717                 G-Xchange/GCash  \n",
       "8906                  G-Xchange/GCash  \n",
       "5473                  G-Xchange/GCash  \n",
       "7045                  G-Xchange/GCash  \n",
       "8729                  G-Xchange/GCash  \n",
       "3266     Asia United Bank Corporation  \n",
       "7771                  G-Xchange/GCash  \n",
       "9698   Philippine National Bank (PNB)  "
      ]
     },
     "execution_count": 21,
     "metadata": {},
     "output_type": "execute_result"
    }
   ],
   "source": [
    "df.sort_values(by='txn_ts').sample(10)"
   ]
  },
  {
   "cell_type": "code",
   "execution_count": 23,
   "metadata": {},
   "outputs": [],
   "source": [
    "df.sort_values(by=['cust_id','txn_ts']).to_excel(\"AllFundtransfersfromoct1to31st.xlsx\", sheet_name='Data', index=False)"
   ]
  },
  {
   "cell_type": "code",
   "execution_count": 24,
   "metadata": {},
   "outputs": [],
   "source": [
    "dfread = dfread.merge(df, left_on='PID', right_on='cust_id', how = 'left')"
   ]
  },
  {
   "cell_type": "code",
   "execution_count": 25,
   "metadata": {},
   "outputs": [],
   "source": [
    "dfread.sort_values(by=['PID','cust_id','txn_ts']).to_excel(\"AllFundtransfersfromoct1to31st.xlsx\", sheet_name='Data', index=False)"
   ]
  },
  {
   "cell_type": "code",
   "execution_count": null,
   "metadata": {},
   "outputs": [],
   "source": []
  }
 ],
 "metadata": {
  "kernelspec": {
   "display_name": "prjfraudscore",
   "language": "python",
   "name": "python3"
  },
  "language_info": {
   "codemirror_mode": {
    "name": "ipython",
    "version": 3
   },
   "file_extension": ".py",
   "mimetype": "text/x-python",
   "name": "python",
   "nbconvert_exporter": "python",
   "pygments_lexer": "ipython3",
   "version": "3.8.12"
  }
 },
 "nbformat": 4,
 "nbformat_minor": 2
}
