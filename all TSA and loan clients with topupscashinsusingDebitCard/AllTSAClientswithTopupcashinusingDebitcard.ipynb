{
 "cells": [
  {
   "cell_type": "markdown",
   "metadata": {},
   "source": [
    "# All TSA and loan clients with top-ups/cash-ins from Nov. 01, 2023 to date using debit cards"
   ]
  },
  {
   "cell_type": "markdown",
   "metadata": {},
   "source": [
    "From: Mela Sombillo <csombillo1@tonikbank.com>\n",
    "Sent: Wednesday, November 22, 2023 5:52 AM\n",
    "To: Gaurav <gkumar@tonikbank.com>; Dwaipayan <dchakroborti@tonikbank.com>; Gurleen Singh <gsingh@tonikbank.com>\n",
    "Cc: Fraud Operations DL <fraud-operations.dl@tonikbank.com>; Al Jason San Jose <asanjose@tonikbank.com>\n",
    "Subject: Anti-Fraud Ops Request | 22NOV23\n",
    "\n",
    " \n",
    "\n",
    "Hi @Gaurav and Team,\n",
    "\n",
    " \n",
    "\n",
    " \n",
    "\n",
    "Good morning.\n",
    "\n",
    " \n",
    "\n",
    "Can you please help us extract all TSA and loan clients with top-ups/cash-ins from Nov. 01, 2023 to date using debit cards?\n",
    "\n",
    " \n",
    "\n",
    "We want to check and review these clients due to the recent issue discovered by Back Office Team related to our PayNamics channel. We need to make sure that there are no other fraudulent/suspicious accounts. Thank you.\n",
    "\n",
    " \n",
    "\n",
    " \n",
    "\n",
    "Regards,\n",
    "\n",
    "Mela"
   ]
  },
  {
   "cell_type": "code",
   "execution_count": 1,
   "metadata": {},
   "outputs": [],
   "source": [
    "# Import Libraries\n",
    "\n",
    "import pandas as pd \n",
    "import numpy as np \n",
    "\n",
    "from google.cloud import bigquery\n",
    "import os\n",
    "\n",
    "path = r\"C:\\Users\\DwaipayanChakroborti\\AppData\\Roaming\\gcloud\\legacy_credentials\\dchakroborti@tonikbank.com\\adc.json\"\n",
    "\n",
    "os.environ[\"GOOGLE_APPLICATION_CREDENTIALS\"] = path\n",
    "client = bigquery.Client(project=\"prj-prod-dataplatform\")"
   ]
  },
  {
   "cell_type": "code",
   "execution_count": 8,
   "metadata": {},
   "outputs": [],
   "source": [
    "# Query\n",
    "\n",
    "sq = \"\"\"\n",
    "select cust_id\n",
    ", tsaaccountnumber\n",
    ", to_account_no\n",
    ", txn_ts\n",
    ", status\n",
    ", trx_amount\n",
    ", trx_fee_amount \n",
    ", total_trx_amount\n",
    ", trx_type\n",
    ", transfervia\n",
    ", transfer_description\n",
    ", error_details\n",
    ", merchant_name\n",
    ", channel\n",
    ", subchannel\n",
    " from prj-prod-dataplatform.risk_credit_mis.channel_transactions\n",
    " where date(txn_ts) between '2023-11-01' and current_date()\n",
    " and coalesce(merchant_name, 'NA') like 'Debit Card'\n",
    " ;\n",
    " \"\"\""
   ]
  },
  {
   "cell_type": "code",
   "execution_count": 9,
   "metadata": {},
   "outputs": [
    {
     "name": "stdout",
     "output_type": "stream",
     "text": [
      "Job ID a3c7eba5-09f3-423d-98fc-94e7ad68ecc2 successfully executed: 100%|\u001b[32m██████████\u001b[0m|\n",
      "Downloading: 100%|\u001b[32m██████████\u001b[0m|\n",
      "The rows and columns in DataFrame df is:\t(2105, 15)\n"
     ]
    }
   ],
   "source": [
    "# Run the query to extract Data\n",
    "\n",
    "df = client.query(sq).to_dataframe(progress_bar_type='tqdm')\n",
    "print(f\"The rows and columns in DataFrame df is:\\t{df.shape}\")"
   ]
  },
  {
   "cell_type": "code",
   "execution_count": 10,
   "metadata": {},
   "outputs": [
    {
     "data": {
      "text/html": [
       "<div>\n",
       "<style scoped>\n",
       "    .dataframe tbody tr th:only-of-type {\n",
       "        vertical-align: middle;\n",
       "    }\n",
       "\n",
       "    .dataframe tbody tr th {\n",
       "        vertical-align: top;\n",
       "    }\n",
       "\n",
       "    .dataframe thead th {\n",
       "        text-align: right;\n",
       "    }\n",
       "</style>\n",
       "<table border=\"1\" class=\"dataframe\">\n",
       "  <thead>\n",
       "    <tr style=\"text-align: right;\">\n",
       "      <th></th>\n",
       "      <th>cust_id</th>\n",
       "      <th>tsaaccountnumber</th>\n",
       "      <th>to_account_no</th>\n",
       "      <th>txn_ts</th>\n",
       "      <th>status</th>\n",
       "      <th>trx_amount</th>\n",
       "      <th>trx_fee_amount</th>\n",
       "      <th>total_trx_amount</th>\n",
       "      <th>trx_type</th>\n",
       "      <th>transfervia</th>\n",
       "      <th>transfer_description</th>\n",
       "      <th>error_details</th>\n",
       "      <th>merchant_name</th>\n",
       "      <th>channel</th>\n",
       "      <th>subchannel</th>\n",
       "    </tr>\n",
       "  </thead>\n",
       "  <tbody>\n",
       "    <tr>\n",
       "      <th>1350</th>\n",
       "      <td>2292156</td>\n",
       "      <td>60822921560002</td>\n",
       "      <td>60822921560002</td>\n",
       "      <td>2023-11-03 09:06:44</td>\n",
       "      <td>Failed</td>\n",
       "      <td>500.00</td>\n",
       "      <td>12.5</td>\n",
       "      <td>512.50</td>\n",
       "      <td>CREDIT</td>\n",
       "      <td>Cashin - Paynamics</td>\n",
       "      <td>None</td>\n",
       "      <td>Webhook Updated</td>\n",
       "      <td>Debit Card</td>\n",
       "      <td>OTHER BANK DEBIT CARD</td>\n",
       "      <td>OTHER BANK DEBIT CARD</td>\n",
       "    </tr>\n",
       "    <tr>\n",
       "      <th>2070</th>\n",
       "      <td>2012378</td>\n",
       "      <td>60820123780002</td>\n",
       "      <td>60820123780002</td>\n",
       "      <td>2023-11-11 21:11:35</td>\n",
       "      <td>Failed</td>\n",
       "      <td>500.00</td>\n",
       "      <td>12.5</td>\n",
       "      <td>512.50</td>\n",
       "      <td>CREDIT</td>\n",
       "      <td>Cashin - Paynamics</td>\n",
       "      <td>None</td>\n",
       "      <td>Card Issuer Declined</td>\n",
       "      <td>Debit Card</td>\n",
       "      <td>OTHER BANK DEBIT CARD</td>\n",
       "      <td>OTHER BANK DEBIT CARD</td>\n",
       "    </tr>\n",
       "    <tr>\n",
       "      <th>647</th>\n",
       "      <td>2169117</td>\n",
       "      <td>60821691170002</td>\n",
       "      <td>60821691170002</td>\n",
       "      <td>2023-11-16 22:57:30</td>\n",
       "      <td>Failed</td>\n",
       "      <td>25060.34</td>\n",
       "      <td>0.0</td>\n",
       "      <td>25060.34</td>\n",
       "      <td>CREDIT</td>\n",
       "      <td>Cashin - Paynamics</td>\n",
       "      <td>None</td>\n",
       "      <td>Transaction Failed, Exceeds Amount Limit</td>\n",
       "      <td>Debit Card</td>\n",
       "      <td>OTHER BANK DEBIT CARD</td>\n",
       "      <td>OTHER BANK DEBIT CARD</td>\n",
       "    </tr>\n",
       "    <tr>\n",
       "      <th>891</th>\n",
       "      <td>2047803</td>\n",
       "      <td>60820478030003</td>\n",
       "      <td>60820478030003</td>\n",
       "      <td>2023-11-17 17:58:39</td>\n",
       "      <td>Failed</td>\n",
       "      <td>2549.00</td>\n",
       "      <td>0.0</td>\n",
       "      <td>2549.00</td>\n",
       "      <td>CREDIT</td>\n",
       "      <td>Cashin - Paynamics</td>\n",
       "      <td>None</td>\n",
       "      <td>BIN restricted</td>\n",
       "      <td>Debit Card</td>\n",
       "      <td>OTHER BANK DEBIT CARD</td>\n",
       "      <td>OTHER BANK DEBIT CARD</td>\n",
       "    </tr>\n",
       "    <tr>\n",
       "      <th>1414</th>\n",
       "      <td>2291878</td>\n",
       "      <td>60822918780005</td>\n",
       "      <td>60822918780005</td>\n",
       "      <td>2023-11-03 09:45:38</td>\n",
       "      <td>Pending</td>\n",
       "      <td>20000.00</td>\n",
       "      <td>500.0</td>\n",
       "      <td>20500.00</td>\n",
       "      <td>CREDIT</td>\n",
       "      <td>Cashin - Paynamics</td>\n",
       "      <td>None</td>\n",
       "      <td>None</td>\n",
       "      <td>Debit Card</td>\n",
       "      <td>OTHER BANK DEBIT CARD</td>\n",
       "      <td>OTHER BANK DEBIT CARD</td>\n",
       "    </tr>\n",
       "  </tbody>\n",
       "</table>\n",
       "</div>"
      ],
      "text/plain": [
       "      cust_id tsaaccountnumber   to_account_no              txn_ts   status  \\\n",
       "1350  2292156   60822921560002  60822921560002 2023-11-03 09:06:44   Failed   \n",
       "2070  2012378   60820123780002  60820123780002 2023-11-11 21:11:35   Failed   \n",
       "647   2169117   60821691170002  60821691170002 2023-11-16 22:57:30   Failed   \n",
       "891   2047803   60820478030003  60820478030003 2023-11-17 17:58:39   Failed   \n",
       "1414  2291878   60822918780005  60822918780005 2023-11-03 09:45:38  Pending   \n",
       "\n",
       "      trx_amount  trx_fee_amount  total_trx_amount trx_type  \\\n",
       "1350      500.00            12.5            512.50   CREDIT   \n",
       "2070      500.00            12.5            512.50   CREDIT   \n",
       "647     25060.34             0.0          25060.34   CREDIT   \n",
       "891      2549.00             0.0           2549.00   CREDIT   \n",
       "1414    20000.00           500.0          20500.00   CREDIT   \n",
       "\n",
       "             transfervia transfer_description  \\\n",
       "1350  Cashin - Paynamics                 None   \n",
       "2070  Cashin - Paynamics                 None   \n",
       "647   Cashin - Paynamics                 None   \n",
       "891   Cashin - Paynamics                 None   \n",
       "1414  Cashin - Paynamics                 None   \n",
       "\n",
       "                                 error_details merchant_name  \\\n",
       "1350                           Webhook Updated    Debit Card   \n",
       "2070                      Card Issuer Declined    Debit Card   \n",
       "647   Transaction Failed, Exceeds Amount Limit    Debit Card   \n",
       "891                             BIN restricted    Debit Card   \n",
       "1414                                      None    Debit Card   \n",
       "\n",
       "                    channel             subchannel  \n",
       "1350  OTHER BANK DEBIT CARD  OTHER BANK DEBIT CARD  \n",
       "2070  OTHER BANK DEBIT CARD  OTHER BANK DEBIT CARD  \n",
       "647   OTHER BANK DEBIT CARD  OTHER BANK DEBIT CARD  \n",
       "891   OTHER BANK DEBIT CARD  OTHER BANK DEBIT CARD  \n",
       "1414  OTHER BANK DEBIT CARD  OTHER BANK DEBIT CARD  "
      ]
     },
     "execution_count": 10,
     "metadata": {},
     "output_type": "execute_result"
    }
   ],
   "source": [
    "df.sample(5)"
   ]
  },
  {
   "cell_type": "code",
   "execution_count": 7,
   "metadata": {},
   "outputs": [
    {
     "data": {
      "text/plain": [
       "Pending    907\n",
       "Failed     720\n",
       "Success    478\n",
       "Name: status, dtype: int64"
      ]
     },
     "execution_count": 7,
     "metadata": {},
     "output_type": "execute_result"
    }
   ],
   "source": [
    "# Check the status counts\n",
    "df.status.value_counts()"
   ]
  },
  {
   "cell_type": "code",
   "execution_count": 20,
   "metadata": {},
   "outputs": [
    {
     "data": {
      "text/plain": [
       "Webhook Updated                                 435\n",
       "Transaction Successful                          325\n",
       "Query Successful                                123\n",
       "BIN restricted                                   91\n",
       "Card Issuer Declined                             87\n",
       "Transaction Failed, Exceeds Amount Limit         47\n",
       "Transaction Failed due to Insufficient funds     41\n",
       "Transaction Successful with 3DS                  30\n",
       "CVC is incorrect.                                 8\n",
       "Transaction Status Update Failed                  5\n",
       "Card Stolen                                       2\n",
       "23                                                2\n",
       "Restricted Card                                   1\n",
       "Expired Card                                      1\n",
       "Name: error_details, dtype: int64"
      ]
     },
     "execution_count": 20,
     "metadata": {},
     "output_type": "execute_result"
    }
   ],
   "source": [
    "# error_details \n",
    "\n",
    "df.error_details.value_counts()\n"
   ]
  },
  {
   "cell_type": "code",
   "execution_count": null,
   "metadata": {},
   "outputs": [],
   "source": [
    "sum_of_value_counts = df['error_details'].value_counts().sum()\n",
    "print(f'Sum of value counts: {sum_of_value_counts}')"
   ]
  },
  {
   "cell_type": "code",
   "execution_count": 13,
   "metadata": {},
   "outputs": [
    {
     "name": "stdout",
     "output_type": "stream",
     "text": [
      "The minimum transaction date is\t2023-11-01 08:00:03\n",
      "The maximum transaction date is\t2023-11-18 22:46:45\n"
     ]
    }
   ],
   "source": [
    "# Check the max and min transaction date\n",
    "\n",
    "print(f\"The minimum transaction date is\\t{df.txn_ts.min()}\")\n",
    "print(f\"The maximum transaction date is\\t{df.txn_ts.max()}\")\n"
   ]
  },
  {
   "cell_type": "code",
   "execution_count": 14,
   "metadata": {},
   "outputs": [
    {
     "data": {
      "text/plain": [
       "CREDIT    2105\n",
       "Name: trx_type, dtype: int64"
      ]
     },
     "execution_count": 14,
     "metadata": {},
     "output_type": "execute_result"
    }
   ],
   "source": [
    "# trx_type details\n",
    "\n",
    "df.trx_type.value_counts()"
   ]
  },
  {
   "cell_type": "code",
   "execution_count": 15,
   "metadata": {},
   "outputs": [
    {
     "data": {
      "text/plain": [
       "Cashin - Paynamics    2105\n",
       "Name: transfervia, dtype: int64"
      ]
     },
     "execution_count": 15,
     "metadata": {},
     "output_type": "execute_result"
    }
   ],
   "source": [
    "# transfervia details\n",
    "\n",
    "df.transfervia.value_counts()"
   ]
  },
  {
   "cell_type": "code",
   "execution_count": 21,
   "metadata": {},
   "outputs": [],
   "source": [
    "df.to_csv(r\"AllTSAClientswithTopupcashinusingDebitcard.csv\", index = False)"
   ]
  },
  {
   "cell_type": "code",
   "execution_count": null,
   "metadata": {},
   "outputs": [],
   "source": []
  }
 ],
 "metadata": {
  "kernelspec": {
   "display_name": "prjfraudscore",
   "language": "python",
   "name": "python3"
  },
  "language_info": {
   "codemirror_mode": {
    "name": "ipython",
    "version": 3
   },
   "file_extension": ".py",
   "mimetype": "text/x-python",
   "name": "python",
   "nbconvert_exporter": "python",
   "pygments_lexer": "ipython3",
   "version": "3.8.12"
  }
 },
 "nbformat": 4,
 "nbformat_minor": 2
}
