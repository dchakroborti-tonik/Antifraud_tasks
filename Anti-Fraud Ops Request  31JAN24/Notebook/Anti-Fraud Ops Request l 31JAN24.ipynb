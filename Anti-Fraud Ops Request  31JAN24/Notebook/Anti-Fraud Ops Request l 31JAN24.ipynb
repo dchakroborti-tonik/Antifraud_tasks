{
 "cells": [
  {
   "cell_type": "markdown",
   "metadata": {},
   "source": [
    "# <div align=\"center\" style=\"color: #ff5733;\">Anti-Fraud Ops Request | 31JAN24</div>"
   ]
  },
  {
   "cell_type": "code",
   "execution_count": 1,
   "metadata": {},
   "outputs": [],
   "source": [
    "# %% [markdown]\n",
    "# # Jupyter Notebook Loading Header\n",
    "#\n",
    "# This is a custom loading header for Jupyter Notebooks in Visual Studio Code.\n",
    "# It includes common imports and settings to get you started quickly.\n",
    "\n",
    "# %% [markdown]\n",
    "## Import Libraries\n",
    "import pandas as pd\n",
    "import numpy as np\n",
    "import matplotlib.pyplot as plt\n",
    "import seaborn as sns\n",
    "from google.cloud import bigquery\n",
    "import os\n",
    "path = r'C:\\Users\\DwaipayanChakroborti\\AppData\\Roaming\\gcloud\\legacy_credentials\\dchakroborti@tonikbank.com\\adc.json'\n",
    "os.environ['GOOGLE_APPLICATION_CREDENTIALS'] = path\n",
    "client = bigquery.Client(project='prj-prod-dataplatform')\n",
    "\n",
    "# %% [markdown]\n",
    "## Configure Settings\n",
    "# Set options or configurations as needed\n",
    "# Example: pd.set_option('display.max_columns', None)"
   ]
  },
  {
   "cell_type": "code",
   "execution_count": 4,
   "metadata": {},
   "outputs": [
    {
     "name": "stdout",
     "output_type": "stream",
     "text": [
      "The rows and columns in dfr are:\t (36, 26)\n"
     ]
    }
   ],
   "source": [
    "dfr = pd.read_excel(r\"D:\\MyStuff\\Mela Sombillo csombillo1@tonikbank.com\\Anti-Fraud Ops Request  31JAN24\\Anti-Fraud Ops Request l 31JAN24.xlsx\", sheet_name='Masterfile')\n",
    "print(f\"The rows and columns in dfr are:\\t {dfr.shape}\")"
   ]
  },
  {
   "cell_type": "code",
   "execution_count": 5,
   "metadata": {},
   "outputs": [
    {
     "data": {
      "text/html": [
       "<div>\n",
       "<style scoped>\n",
       "    .dataframe tbody tr th:only-of-type {\n",
       "        vertical-align: middle;\n",
       "    }\n",
       "\n",
       "    .dataframe tbody tr th {\n",
       "        vertical-align: top;\n",
       "    }\n",
       "\n",
       "    .dataframe thead th {\n",
       "        text-align: right;\n",
       "    }\n",
       "</style>\n",
       "<table border=\"1\" class=\"dataframe\">\n",
       "  <thead>\n",
       "    <tr style=\"text-align: right;\">\n",
       "      <th></th>\n",
       "      <th>customerId</th>\n",
       "      <th>Source</th>\n",
       "      <th>loanAccountNumber</th>\n",
       "      <th>disbursedLoanAmount</th>\n",
       "      <th>dateOfBirth</th>\n",
       "      <th>name</th>\n",
       "      <th>mobileNo</th>\n",
       "      <th>Ref1_contact</th>\n",
       "      <th>Ref2_contact</th>\n",
       "      <th>tinNumber</th>\n",
       "      <th>...</th>\n",
       "      <th>loanPaidStatus</th>\n",
       "      <th>custLoanJourneyZipCode</th>\n",
       "      <th>custLoanJourneyCity</th>\n",
       "      <th>custLoanJourneyProvince</th>\n",
       "      <th>booking_date</th>\n",
       "      <th>Unnamed: 21</th>\n",
       "      <th>natureofwork</th>\n",
       "      <th>industryDescription</th>\n",
       "      <th>subIndustryDescription</th>\n",
       "      <th>installmentNumber</th>\n",
       "    </tr>\n",
       "  </thead>\n",
       "  <tbody>\n",
       "    <tr>\n",
       "      <th>0</th>\n",
       "      <td>1939047</td>\n",
       "      <td>CDD</td>\n",
       "      <td>NaN</td>\n",
       "      <td>NaN</td>\n",
       "      <td>NaN</td>\n",
       "      <td>NaN</td>\n",
       "      <td>NaN</td>\n",
       "      <td>NaN</td>\n",
       "      <td>NaN</td>\n",
       "      <td>NaN</td>\n",
       "      <td>...</td>\n",
       "      <td>NaN</td>\n",
       "      <td>NaN</td>\n",
       "      <td>NaN</td>\n",
       "      <td>NaN</td>\n",
       "      <td>NaN</td>\n",
       "      <td>NaN</td>\n",
       "      <td>NaN</td>\n",
       "      <td>NaN</td>\n",
       "      <td>NaN</td>\n",
       "      <td>NaN</td>\n",
       "    </tr>\n",
       "    <tr>\n",
       "      <th>1</th>\n",
       "      <td>1950344</td>\n",
       "      <td>CDD</td>\n",
       "      <td>NaN</td>\n",
       "      <td>NaN</td>\n",
       "      <td>NaN</td>\n",
       "      <td>NaN</td>\n",
       "      <td>NaN</td>\n",
       "      <td>NaN</td>\n",
       "      <td>NaN</td>\n",
       "      <td>NaN</td>\n",
       "      <td>...</td>\n",
       "      <td>NaN</td>\n",
       "      <td>NaN</td>\n",
       "      <td>NaN</td>\n",
       "      <td>NaN</td>\n",
       "      <td>NaN</td>\n",
       "      <td>NaN</td>\n",
       "      <td>NaN</td>\n",
       "      <td>NaN</td>\n",
       "      <td>NaN</td>\n",
       "      <td>NaN</td>\n",
       "    </tr>\n",
       "    <tr>\n",
       "      <th>2</th>\n",
       "      <td>2121636</td>\n",
       "      <td>CDD</td>\n",
       "      <td>NaN</td>\n",
       "      <td>NaN</td>\n",
       "      <td>NaN</td>\n",
       "      <td>NaN</td>\n",
       "      <td>NaN</td>\n",
       "      <td>NaN</td>\n",
       "      <td>NaN</td>\n",
       "      <td>NaN</td>\n",
       "      <td>...</td>\n",
       "      <td>NaN</td>\n",
       "      <td>NaN</td>\n",
       "      <td>NaN</td>\n",
       "      <td>NaN</td>\n",
       "      <td>NaN</td>\n",
       "      <td>NaN</td>\n",
       "      <td>NaN</td>\n",
       "      <td>NaN</td>\n",
       "      <td>NaN</td>\n",
       "      <td>NaN</td>\n",
       "    </tr>\n",
       "    <tr>\n",
       "      <th>3</th>\n",
       "      <td>2139555</td>\n",
       "      <td>CDD</td>\n",
       "      <td>NaN</td>\n",
       "      <td>NaN</td>\n",
       "      <td>NaN</td>\n",
       "      <td>NaN</td>\n",
       "      <td>NaN</td>\n",
       "      <td>NaN</td>\n",
       "      <td>NaN</td>\n",
       "      <td>NaN</td>\n",
       "      <td>...</td>\n",
       "      <td>NaN</td>\n",
       "      <td>NaN</td>\n",
       "      <td>NaN</td>\n",
       "      <td>NaN</td>\n",
       "      <td>NaN</td>\n",
       "      <td>NaN</td>\n",
       "      <td>NaN</td>\n",
       "      <td>NaN</td>\n",
       "      <td>NaN</td>\n",
       "      <td>NaN</td>\n",
       "    </tr>\n",
       "    <tr>\n",
       "      <th>4</th>\n",
       "      <td>2175459</td>\n",
       "      <td>CDD</td>\n",
       "      <td>NaN</td>\n",
       "      <td>NaN</td>\n",
       "      <td>NaN</td>\n",
       "      <td>NaN</td>\n",
       "      <td>NaN</td>\n",
       "      <td>NaN</td>\n",
       "      <td>NaN</td>\n",
       "      <td>NaN</td>\n",
       "      <td>...</td>\n",
       "      <td>NaN</td>\n",
       "      <td>NaN</td>\n",
       "      <td>NaN</td>\n",
       "      <td>NaN</td>\n",
       "      <td>NaN</td>\n",
       "      <td>NaN</td>\n",
       "      <td>NaN</td>\n",
       "      <td>NaN</td>\n",
       "      <td>NaN</td>\n",
       "      <td>NaN</td>\n",
       "    </tr>\n",
       "  </tbody>\n",
       "</table>\n",
       "<p>5 rows × 26 columns</p>\n",
       "</div>"
      ],
      "text/plain": [
       "   customerId Source  loanAccountNumber  disbursedLoanAmount  dateOfBirth  \\\n",
       "0     1939047    CDD                NaN                  NaN          NaN   \n",
       "1     1950344    CDD                NaN                  NaN          NaN   \n",
       "2     2121636    CDD                NaN                  NaN          NaN   \n",
       "3     2139555    CDD                NaN                  NaN          NaN   \n",
       "4     2175459    CDD                NaN                  NaN          NaN   \n",
       "\n",
       "   name  mobileNo  Ref1_contact  Ref2_contact  tinNumber  ...  loanPaidStatus  \\\n",
       "0   NaN       NaN           NaN           NaN        NaN  ...             NaN   \n",
       "1   NaN       NaN           NaN           NaN        NaN  ...             NaN   \n",
       "2   NaN       NaN           NaN           NaN        NaN  ...             NaN   \n",
       "3   NaN       NaN           NaN           NaN        NaN  ...             NaN   \n",
       "4   NaN       NaN           NaN           NaN        NaN  ...             NaN   \n",
       "\n",
       "   custLoanJourneyZipCode  custLoanJourneyCity  custLoanJourneyProvince  \\\n",
       "0                     NaN                  NaN                      NaN   \n",
       "1                     NaN                  NaN                      NaN   \n",
       "2                     NaN                  NaN                      NaN   \n",
       "3                     NaN                  NaN                      NaN   \n",
       "4                     NaN                  NaN                      NaN   \n",
       "\n",
       "   booking_date  Unnamed: 21  natureofwork  industryDescription  \\\n",
       "0           NaN          NaN           NaN                  NaN   \n",
       "1           NaN          NaN           NaN                  NaN   \n",
       "2           NaN          NaN           NaN                  NaN   \n",
       "3           NaN          NaN           NaN                  NaN   \n",
       "4           NaN          NaN           NaN                  NaN   \n",
       "\n",
       "   subIndustryDescription  installmentNumber  \n",
       "0                     NaN                NaN  \n",
       "1                     NaN                NaN  \n",
       "2                     NaN                NaN  \n",
       "3                     NaN                NaN  \n",
       "4                     NaN                NaN  \n",
       "\n",
       "[5 rows x 26 columns]"
      ]
     },
     "execution_count": 5,
     "metadata": {},
     "output_type": "execute_result"
    }
   ],
   "source": [
    "dfr.head()"
   ]
  },
  {
   "cell_type": "code",
   "execution_count": 6,
   "metadata": {},
   "outputs": [
    {
     "data": {
      "text/plain": [
       "Index(['customerId', 'Source', 'loanAccountNumber', 'disbursedLoanAmount',\n",
       "       'dateOfBirth', 'name', 'mobileNo', 'Ref1_contact', 'Ref2_contact',\n",
       "       'tinNumber', 'docType', 'docNumber', 'email', 'tsa_zip', 'tsa_city',\n",
       "       'tsa_province', 'loanPaidStatus', 'custLoanJourneyZipCode',\n",
       "       'custLoanJourneyCity', 'custLoanJourneyProvince', 'booking_date',\n",
       "       'Unnamed: 21', 'natureofwork', 'industryDescription',\n",
       "       'subIndustryDescription', 'installmentNumber'],\n",
       "      dtype='object')"
      ]
     },
     "execution_count": 6,
     "metadata": {},
     "output_type": "execute_result"
    }
   ],
   "source": [
    "# Check the columns\n",
    "dfr.columns"
   ]
  },
  {
   "cell_type": "code",
   "execution_count": 7,
   "metadata": {},
   "outputs": [
    {
     "data": {
      "text/plain": [
       "(1939047, 1950344, 2121636, 2139555, 2175459)"
      ]
     },
     "execution_count": 7,
     "metadata": {},
     "output_type": "execute_result"
    }
   ],
   "source": [
    "a = tuple(dfr['customerId'])\n",
    "a[0:5]"
   ]
  },
  {
   "cell_type": "code",
   "execution_count": 8,
   "metadata": {},
   "outputs": [
    {
     "name": "stdout",
     "output_type": "stream",
     "text": [
      "select customerId, 'CDD' Source \n",
      ", loanAccountNumber\n",
      ", disbursedLoanAmount\n",
      ", dateOfBirth\n",
      ", firstName||''||middleName||''||lastName name\n",
      ", mobileNo \n",
      ", Ref1_contact\n",
      ", Ref2_contact\n",
      ", tinNumber\n",
      ", docType\n",
      ", docNumber\n",
      ", email\n",
      ", postalCode tsa_zip\n",
      ", city tsa_city\n",
      ", province tsa_province\n",
      ", loanPaidStatus\n",
      ", custLoanJourneyZipCode custLoanJourneyZipCode\n",
      ", custLoanJourneyCity\n",
      ", custLoanJourneyProvince\n",
      ", format_date('%Y-%m-%d',disbursementDateTime) booking_date\n",
      ", natureofwork\n",
      ", industryDescription\n",
      ", subIndustryDescription\n",
      "from `risk_credit_mis.loan_master_table` \n",
      "where customerId in (1939047, 1950344, 2121636, 2139555, 2175459, 2174171, 2206995, 2214208, 2219878, 2218217, 2240084, 2240085, 2246339, 2248953, 2267765, 2273241, 2277720, 2288726, 2291225, 2291339, 2294190, 2294260, 2299942, 1515384, 2308089, 2312790, 2312412, 2318437, 2320147, 2321013, 2321127, 2325943, 2326415, 2335773, 2336369, 2340524)\n",
      "\n"
     ]
    }
   ],
   "source": [
    "sq = f\"\"\"select customerId, 'CDD' Source \n",
    ", loanAccountNumber\n",
    ", disbursedLoanAmount\n",
    ", dateOfBirth\n",
    ", firstName||''||middleName||''||lastName name\n",
    ", mobileNo \n",
    ", Ref1_contact\n",
    ", Ref2_contact\n",
    ", tinNumber\n",
    ", docType\n",
    ", docNumber\n",
    ", email\n",
    ", postalCode tsa_zip\n",
    ", city tsa_city\n",
    ", province tsa_province\n",
    ", loanPaidStatus\n",
    ", custLoanJourneyZipCode custLoanJourneyZipCode\n",
    ", custLoanJourneyCity\n",
    ", custLoanJourneyProvince\n",
    ", format_date('%Y-%m-%d',disbursementDateTime) booking_date\n",
    ", natureofwork\n",
    ", industryDescription\n",
    ", subIndustryDescription\n",
    "from `risk_credit_mis.loan_master_table` \n",
    "where customerId in {a}\n",
    "\"\"\"\n",
    "print(sq)"
   ]
  },
  {
   "cell_type": "code",
   "execution_count": 9,
   "metadata": {},
   "outputs": [
    {
     "name": "stdout",
     "output_type": "stream",
     "text": [
      "Job ID bad9b98d-402b-43fc-8954-98b8c0afbc78 successfully executed: 100%|\u001b[32m██████████\u001b[0m|\n",
      "Downloading: 100%|\u001b[32m██████████\u001b[0m|\n"
     ]
    }
   ],
   "source": [
    "df = client.query(sq).to_dataframe(progress_bar_type = 'tqdm')"
   ]
  },
  {
   "cell_type": "code",
   "execution_count": 10,
   "metadata": {},
   "outputs": [
    {
     "name": "stdout",
     "output_type": "stream",
     "text": [
      "The shape of the df are:\t(37, 24)\n"
     ]
    }
   ],
   "source": [
    "print(f\"The shape of the df are:\\t{df.shape}\")"
   ]
  },
  {
   "cell_type": "code",
   "execution_count": 11,
   "metadata": {},
   "outputs": [],
   "source": [
    "df.to_excel(\"Anti-Fraud Ops Request l 31JAN24_data.xlsx\", sheet_name='rawdata', index = False)"
   ]
  },
  {
   "cell_type": "code",
   "execution_count": null,
   "metadata": {},
   "outputs": [],
   "source": []
  }
 ],
 "metadata": {
  "kernelspec": {
   "display_name": "prjfraudscore",
   "language": "python",
   "name": "python3"
  },
  "language_info": {
   "codemirror_mode": {
    "name": "ipython",
    "version": 3
   },
   "file_extension": ".py",
   "mimetype": "text/x-python",
   "name": "python",
   "nbconvert_exporter": "python",
   "pygments_lexer": "ipython3",
   "version": "3.8.12"
  }
 },
 "nbformat": 4,
 "nbformat_minor": 2
}
