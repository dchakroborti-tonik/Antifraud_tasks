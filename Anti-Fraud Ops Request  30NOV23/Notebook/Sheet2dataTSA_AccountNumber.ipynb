{
 "cells": [
  {
   "cell_type": "markdown",
   "metadata": {},
   "source": [
    "<center><b> Anti-Fraud Ops Request | 30NOV23 </center>"
   ]
  },
  {
   "cell_type": "markdown",
   "metadata": {},
   "source": [
    "Hi @Gaurav and Team,\n",
    " \n",
    " \n",
    "Good afternoon.\n",
    " \n",
    "Can you please help us extract the PIDs related to the JIRA tickets and TSAs in the attached file (Sheet2 and Sheet3)?\n",
    "\n",
    "We need the data for an upcoming IT development related to fraud account tagging. Thank you.\n",
    "\n",
    "Ler me know if you have questions.\n",
    "\n",
    "\n",
    "Regards,\n",
    "Mela\n"
   ]
  },
  {
   "cell_type": "code",
   "execution_count": 1,
   "metadata": {},
   "outputs": [],
   "source": [
    "# Import Libraries\n",
    "\n",
    "import pandas as pd  \n",
    "import numpy as np  \n",
    "\n",
    "from google.cloud import bigquery\n",
    "import os\n",
    "\n",
    "path = r\"C:\\Users\\DwaipayanChakroborti\\AppData\\Roaming\\gcloud\\legacy_credentials\\dchakroborti@tonikbank.com\\adc.json\"\n",
    "\n",
    "os.environ[\"GOOGLE_APPLICATION_CREDENTIALS\"] = path\n",
    "client = bigquery.Client(project=\"prj-prod-dataplatform\")"
   ]
  },
  {
   "cell_type": "code",
   "execution_count": 2,
   "metadata": {},
   "outputs": [
    {
     "data": {
      "text/plain": [
       "(322, 3)"
      ]
     },
     "execution_count": 2,
     "metadata": {},
     "output_type": "execute_result"
    }
   ],
   "source": [
    "# Read the data from sheet from sheet2 and check the shape to make sure that the number of rows imported are equal to number of rows in the sheet.\n",
    "dfinputs2 = pd.read_excel(r\"D:\\MyStuff\\Mela Sombillo csombillo1@tonikbank.com\\Anti-Fraud Ops Request  30NOV23\\Fraud PIDs v1.xlsx\", sheet_name='Sheet2')\n",
    "dfinputs2.shape"
   ]
  },
  {
   "cell_type": "code",
   "execution_count": 3,
   "metadata": {},
   "outputs": [
    {
     "data": {
      "text/html": [
       "<div>\n",
       "<style scoped>\n",
       "    .dataframe tbody tr th:only-of-type {\n",
       "        vertical-align: middle;\n",
       "    }\n",
       "\n",
       "    .dataframe tbody tr th {\n",
       "        vertical-align: top;\n",
       "    }\n",
       "\n",
       "    .dataframe thead th {\n",
       "        text-align: right;\n",
       "    }\n",
       "</style>\n",
       "<table border=\"1\" class=\"dataframe\">\n",
       "  <thead>\n",
       "    <tr style=\"text-align: right;\">\n",
       "      <th></th>\n",
       "      <th>Fraud Type</th>\n",
       "      <th>TSA</th>\n",
       "      <th>PID</th>\n",
       "    </tr>\n",
       "  </thead>\n",
       "  <tbody>\n",
       "    <tr>\n",
       "      <th>0</th>\n",
       "      <td>Fraud Card Transaction</td>\n",
       "      <td>60810034620009</td>\n",
       "      <td>NaN</td>\n",
       "    </tr>\n",
       "    <tr>\n",
       "      <th>1</th>\n",
       "      <td>Fraud Card Transaction</td>\n",
       "      <td>60810055110009</td>\n",
       "      <td>NaN</td>\n",
       "    </tr>\n",
       "    <tr>\n",
       "      <th>2</th>\n",
       "      <td>Fraud Card Transaction</td>\n",
       "      <td>60810150300002</td>\n",
       "      <td>NaN</td>\n",
       "    </tr>\n",
       "    <tr>\n",
       "      <th>3</th>\n",
       "      <td>Fraud Card Transaction</td>\n",
       "      <td>60810286150008</td>\n",
       "      <td>NaN</td>\n",
       "    </tr>\n",
       "    <tr>\n",
       "      <th>4</th>\n",
       "      <td>Fraud Card Transaction</td>\n",
       "      <td>60810397930004</td>\n",
       "      <td>NaN</td>\n",
       "    </tr>\n",
       "  </tbody>\n",
       "</table>\n",
       "</div>"
      ],
      "text/plain": [
       "               Fraud Type             TSA  PID\n",
       "0  Fraud Card Transaction  60810034620009  NaN\n",
       "1  Fraud Card Transaction  60810055110009  NaN\n",
       "2  Fraud Card Transaction  60810150300002  NaN\n",
       "3  Fraud Card Transaction  60810286150008  NaN\n",
       "4  Fraud Card Transaction  60810397930004  NaN"
      ]
     },
     "execution_count": 3,
     "metadata": {},
     "output_type": "execute_result"
    }
   ],
   "source": [
    "# Check the first 5 rows of the data imported\n",
    "dfinputs2.head()"
   ]
  },
  {
   "cell_type": "code",
   "execution_count": 4,
   "metadata": {},
   "outputs": [
    {
     "name": "stdout",
     "output_type": "stream",
     "text": [
      "<class 'pandas.core.frame.DataFrame'>\n",
      "RangeIndex: 322 entries, 0 to 321\n",
      "Data columns (total 3 columns):\n",
      " #   Column      Non-Null Count  Dtype  \n",
      "---  ------      --------------  -----  \n",
      " 0   Fraud Type  322 non-null    object \n",
      " 1   TSA         322 non-null    int64  \n",
      " 2   PID         0 non-null      float64\n",
      "dtypes: float64(1), int64(1), object(1)\n",
      "memory usage: 7.7+ KB\n"
     ]
    }
   ],
   "source": [
    "# Check the datatype and other details of the imported dataframe. Match it with the table description\n",
    "dfinputs2.info()"
   ]
  },
  {
   "cell_type": "code",
   "execution_count": 5,
   "metadata": {},
   "outputs": [],
   "source": [
    "# Since the table have datatype as string so changing the TSA column which is integer to string\n",
    "dfinputs2['TSA'] = dfinputs2['TSA'].astype('str')"
   ]
  },
  {
   "cell_type": "code",
   "execution_count": 6,
   "metadata": {},
   "outputs": [
    {
     "name": "stdout",
     "output_type": "stream",
     "text": [
      "<class 'pandas.core.frame.DataFrame'>\n",
      "RangeIndex: 322 entries, 0 to 321\n",
      "Data columns (total 3 columns):\n",
      " #   Column      Non-Null Count  Dtype  \n",
      "---  ------      --------------  -----  \n",
      " 0   Fraud Type  322 non-null    object \n",
      " 1   TSA         322 non-null    object \n",
      " 2   PID         0 non-null      float64\n",
      "dtypes: float64(1), object(2)\n",
      "memory usage: 7.7+ KB\n"
     ]
    }
   ],
   "source": [
    "# Check the table information again to make sure the change intended is done\n",
    "dfinputs2.info()"
   ]
  },
  {
   "cell_type": "code",
   "execution_count": 7,
   "metadata": {},
   "outputs": [],
   "source": [
    "# Change the string value to Tuple\n",
    "a = tuple(dfinputs2['TSA'])\n"
   ]
  },
  {
   "cell_type": "code",
   "execution_count": 8,
   "metadata": {},
   "outputs": [
    {
     "name": "stdout",
     "output_type": "stream",
     "text": [
      "Job ID 9c358778-0037-40c5-b450-5eb978373dc7 successfully executed: 100%|\u001b[32m██████████\u001b[0m|\n",
      "Downloading: 100%|\u001b[32m██████████\u001b[0m|\n"
     ]
    },
    {
     "data": {
      "text/plain": [
       "<bound method NDFrame.head of       accountNumber customerId\n",
       "0    60811455090001    1145509\n",
       "1    60820189960006    2018996\n",
       "2    60815558320008    1555832\n",
       "3    60816057620002    1605762\n",
       "4    60816154040008    1615404\n",
       "..              ...        ...\n",
       "317  60812492520007    1249252\n",
       "318  60821749690003    2174969\n",
       "319  60822922060005    2292206\n",
       "320  60819287440001    1928744\n",
       "321  60810993000001    1099300\n",
       "\n",
       "[322 rows x 2 columns]>"
      ]
     },
     "execution_count": 8,
     "metadata": {},
     "output_type": "execute_result"
    }
   ],
   "source": [
    "# Run the query and check the first 5 rows of the output dataframe\n",
    "sq = f\"\"\"select accountNumber, customerId from `risk_credit_mis.banking_report` where accountNumber in {a};\"\"\"\n",
    "\n",
    "df = client.query(sq).to_dataframe(progress_bar_type='tqdm')\n",
    "df.head"
   ]
  },
  {
   "cell_type": "code",
   "execution_count": 9,
   "metadata": {},
   "outputs": [
    {
     "data": {
      "text/html": [
       "<div>\n",
       "<style scoped>\n",
       "    .dataframe tbody tr th:only-of-type {\n",
       "        vertical-align: middle;\n",
       "    }\n",
       "\n",
       "    .dataframe tbody tr th {\n",
       "        vertical-align: top;\n",
       "    }\n",
       "\n",
       "    .dataframe thead th {\n",
       "        text-align: right;\n",
       "    }\n",
       "</style>\n",
       "<table border=\"1\" class=\"dataframe\">\n",
       "  <thead>\n",
       "    <tr style=\"text-align: right;\">\n",
       "      <th></th>\n",
       "      <th>Fraud Type</th>\n",
       "      <th>TSA</th>\n",
       "      <th>PID</th>\n",
       "      <th>accountNumber</th>\n",
       "      <th>customerId</th>\n",
       "    </tr>\n",
       "  </thead>\n",
       "  <tbody>\n",
       "    <tr>\n",
       "      <th>0</th>\n",
       "      <td>Fraud Card Transaction</td>\n",
       "      <td>60810034620009</td>\n",
       "      <td>NaN</td>\n",
       "      <td>60810034620009</td>\n",
       "      <td>1003462</td>\n",
       "    </tr>\n",
       "    <tr>\n",
       "      <th>1</th>\n",
       "      <td>Fraud Card Transaction</td>\n",
       "      <td>60810055110009</td>\n",
       "      <td>NaN</td>\n",
       "      <td>60810055110009</td>\n",
       "      <td>1005511</td>\n",
       "    </tr>\n",
       "    <tr>\n",
       "      <th>2</th>\n",
       "      <td>Fraud Card Transaction</td>\n",
       "      <td>60810150300002</td>\n",
       "      <td>NaN</td>\n",
       "      <td>60810150300002</td>\n",
       "      <td>1015030</td>\n",
       "    </tr>\n",
       "    <tr>\n",
       "      <th>3</th>\n",
       "      <td>Fraud Card Transaction</td>\n",
       "      <td>60810286150008</td>\n",
       "      <td>NaN</td>\n",
       "      <td>60810286150008</td>\n",
       "      <td>1028615</td>\n",
       "    </tr>\n",
       "    <tr>\n",
       "      <th>4</th>\n",
       "      <td>Fraud Card Transaction</td>\n",
       "      <td>60810397930004</td>\n",
       "      <td>NaN</td>\n",
       "      <td>60810397930004</td>\n",
       "      <td>1039793</td>\n",
       "    </tr>\n",
       "  </tbody>\n",
       "</table>\n",
       "</div>"
      ],
      "text/plain": [
       "               Fraud Type             TSA  PID   accountNumber customerId\n",
       "0  Fraud Card Transaction  60810034620009  NaN  60810034620009    1003462\n",
       "1  Fraud Card Transaction  60810055110009  NaN  60810055110009    1005511\n",
       "2  Fraud Card Transaction  60810150300002  NaN  60810150300002    1015030\n",
       "3  Fraud Card Transaction  60810286150008  NaN  60810286150008    1028615\n",
       "4  Fraud Card Transaction  60810397930004  NaN  60810397930004    1039793"
      ]
     },
     "execution_count": 9,
     "metadata": {},
     "output_type": "execute_result"
    }
   ],
   "source": [
    "df2 = dfinputs2.merge(df, left_on='TSA', right_on='accountNumber', how='left')\n",
    "df2.head()"
   ]
  },
  {
   "cell_type": "code",
   "execution_count": 10,
   "metadata": {},
   "outputs": [
    {
     "data": {
      "text/plain": [
       "Fraud Type         0\n",
       "TSA                0\n",
       "PID              322\n",
       "accountNumber      0\n",
       "customerId         0\n",
       "dtype: int64"
      ]
     },
     "execution_count": 10,
     "metadata": {},
     "output_type": "execute_result"
    }
   ],
   "source": [
    "df2.isnull().sum()"
   ]
  },
  {
   "cell_type": "code",
   "execution_count": 11,
   "metadata": {},
   "outputs": [
    {
     "data": {
      "text/html": [
       "<div>\n",
       "<style scoped>\n",
       "    .dataframe tbody tr th:only-of-type {\n",
       "        vertical-align: middle;\n",
       "    }\n",
       "\n",
       "    .dataframe tbody tr th {\n",
       "        vertical-align: top;\n",
       "    }\n",
       "\n",
       "    .dataframe thead th {\n",
       "        text-align: right;\n",
       "    }\n",
       "</style>\n",
       "<table border=\"1\" class=\"dataframe\">\n",
       "  <thead>\n",
       "    <tr style=\"text-align: right;\">\n",
       "      <th></th>\n",
       "      <th>Fraud Type</th>\n",
       "      <th>TSA</th>\n",
       "      <th>PID</th>\n",
       "      <th>accountNumber</th>\n",
       "      <th>customerId</th>\n",
       "    </tr>\n",
       "  </thead>\n",
       "  <tbody>\n",
       "  </tbody>\n",
       "</table>\n",
       "</div>"
      ],
      "text/plain": [
       "Empty DataFrame\n",
       "Columns: [Fraud Type, TSA, PID, accountNumber, customerId]\n",
       "Index: []"
      ]
     },
     "execution_count": 11,
     "metadata": {},
     "output_type": "execute_result"
    }
   ],
   "source": [
    "b = df2[df2.accountNumber.isnull()]\n",
    "b"
   ]
  },
  {
   "cell_type": "code",
   "execution_count": 12,
   "metadata": {},
   "outputs": [
    {
     "data": {
      "text/html": [
       "<div>\n",
       "<style scoped>\n",
       "    .dataframe tbody tr th:only-of-type {\n",
       "        vertical-align: middle;\n",
       "    }\n",
       "\n",
       "    .dataframe tbody tr th {\n",
       "        vertical-align: top;\n",
       "    }\n",
       "\n",
       "    .dataframe thead th {\n",
       "        text-align: right;\n",
       "    }\n",
       "</style>\n",
       "<table border=\"1\" class=\"dataframe\">\n",
       "  <thead>\n",
       "    <tr style=\"text-align: right;\">\n",
       "      <th></th>\n",
       "      <th>Fraud Type</th>\n",
       "      <th>TSA</th>\n",
       "      <th>PID</th>\n",
       "      <th>accountNumber</th>\n",
       "      <th>customerId</th>\n",
       "    </tr>\n",
       "  </thead>\n",
       "  <tbody>\n",
       "    <tr>\n",
       "      <th>0</th>\n",
       "      <td>Fraud Card Transaction</td>\n",
       "      <td>60810034620009</td>\n",
       "      <td>NaN</td>\n",
       "      <td>60810034620009</td>\n",
       "      <td>1003462</td>\n",
       "    </tr>\n",
       "    <tr>\n",
       "      <th>1</th>\n",
       "      <td>Fraud Card Transaction</td>\n",
       "      <td>60810055110009</td>\n",
       "      <td>NaN</td>\n",
       "      <td>60810055110009</td>\n",
       "      <td>1005511</td>\n",
       "    </tr>\n",
       "    <tr>\n",
       "      <th>2</th>\n",
       "      <td>Fraud Card Transaction</td>\n",
       "      <td>60810150300002</td>\n",
       "      <td>NaN</td>\n",
       "      <td>60810150300002</td>\n",
       "      <td>1015030</td>\n",
       "    </tr>\n",
       "    <tr>\n",
       "      <th>3</th>\n",
       "      <td>Fraud Card Transaction</td>\n",
       "      <td>60810286150008</td>\n",
       "      <td>NaN</td>\n",
       "      <td>60810286150008</td>\n",
       "      <td>1028615</td>\n",
       "    </tr>\n",
       "    <tr>\n",
       "      <th>4</th>\n",
       "      <td>Fraud Card Transaction</td>\n",
       "      <td>60810397930004</td>\n",
       "      <td>NaN</td>\n",
       "      <td>60810397930004</td>\n",
       "      <td>1039793</td>\n",
       "    </tr>\n",
       "  </tbody>\n",
       "</table>\n",
       "</div>"
      ],
      "text/plain": [
       "               Fraud Type             TSA  PID   accountNumber customerId\n",
       "0  Fraud Card Transaction  60810034620009  NaN  60810034620009    1003462\n",
       "1  Fraud Card Transaction  60810055110009  NaN  60810055110009    1005511\n",
       "2  Fraud Card Transaction  60810150300002  NaN  60810150300002    1015030\n",
       "3  Fraud Card Transaction  60810286150008  NaN  60810286150008    1028615\n",
       "4  Fraud Card Transaction  60810397930004  NaN  60810397930004    1039793"
      ]
     },
     "execution_count": 12,
     "metadata": {},
     "output_type": "execute_result"
    }
   ],
   "source": [
    "df2.head()"
   ]
  },
  {
   "cell_type": "code",
   "execution_count": 13,
   "metadata": {},
   "outputs": [
    {
     "data": {
      "text/html": [
       "<div>\n",
       "<style scoped>\n",
       "    .dataframe tbody tr th:only-of-type {\n",
       "        vertical-align: middle;\n",
       "    }\n",
       "\n",
       "    .dataframe tbody tr th {\n",
       "        vertical-align: top;\n",
       "    }\n",
       "\n",
       "    .dataframe thead th {\n",
       "        text-align: right;\n",
       "    }\n",
       "</style>\n",
       "<table border=\"1\" class=\"dataframe\">\n",
       "  <thead>\n",
       "    <tr style=\"text-align: right;\">\n",
       "      <th></th>\n",
       "      <th>Fraud Type</th>\n",
       "      <th>TSA</th>\n",
       "      <th>customerId</th>\n",
       "    </tr>\n",
       "  </thead>\n",
       "  <tbody>\n",
       "    <tr>\n",
       "      <th>0</th>\n",
       "      <td>Fraud Card Transaction</td>\n",
       "      <td>60810034620009</td>\n",
       "      <td>1003462</td>\n",
       "    </tr>\n",
       "    <tr>\n",
       "      <th>1</th>\n",
       "      <td>Fraud Card Transaction</td>\n",
       "      <td>60810055110009</td>\n",
       "      <td>1005511</td>\n",
       "    </tr>\n",
       "    <tr>\n",
       "      <th>2</th>\n",
       "      <td>Fraud Card Transaction</td>\n",
       "      <td>60810150300002</td>\n",
       "      <td>1015030</td>\n",
       "    </tr>\n",
       "    <tr>\n",
       "      <th>3</th>\n",
       "      <td>Fraud Card Transaction</td>\n",
       "      <td>60810286150008</td>\n",
       "      <td>1028615</td>\n",
       "    </tr>\n",
       "    <tr>\n",
       "      <th>4</th>\n",
       "      <td>Fraud Card Transaction</td>\n",
       "      <td>60810397930004</td>\n",
       "      <td>1039793</td>\n",
       "    </tr>\n",
       "  </tbody>\n",
       "</table>\n",
       "</div>"
      ],
      "text/plain": [
       "               Fraud Type             TSA customerId\n",
       "0  Fraud Card Transaction  60810034620009    1003462\n",
       "1  Fraud Card Transaction  60810055110009    1005511\n",
       "2  Fraud Card Transaction  60810150300002    1015030\n",
       "3  Fraud Card Transaction  60810286150008    1028615\n",
       "4  Fraud Card Transaction  60810397930004    1039793"
      ]
     },
     "execution_count": 13,
     "metadata": {},
     "output_type": "execute_result"
    }
   ],
   "source": [
    "df2.drop(columns=['PID','accountNumber'], inplace = True)\n",
    "df2.head()"
   ]
  },
  {
   "cell_type": "code",
   "execution_count": 14,
   "metadata": {},
   "outputs": [
    {
     "data": {
      "text/plain": [
       "Index(['Fraud Type', 'TSA', 'PID'], dtype='object')"
      ]
     },
     "execution_count": 14,
     "metadata": {},
     "output_type": "execute_result"
    }
   ],
   "source": [
    "df2.rename(columns={'customerId':'PID'}, inplace = True)\n",
    "df2.columns"
   ]
  },
  {
   "cell_type": "code",
   "execution_count": 15,
   "metadata": {},
   "outputs": [],
   "source": [
    "df2.to_excel('Fraud_PID_v1_Sheet2data_20231205.xlsx', index = False, sheet_name='Data')"
   ]
  },
  {
   "cell_type": "code",
   "execution_count": null,
   "metadata": {},
   "outputs": [],
   "source": []
  }
 ],
 "metadata": {
  "kernelspec": {
   "display_name": "prjfraudscore",
   "language": "python",
   "name": "python3"
  },
  "language_info": {
   "codemirror_mode": {
    "name": "ipython",
    "version": 3
   },
   "file_extension": ".py",
   "mimetype": "text/x-python",
   "name": "python",
   "nbconvert_exporter": "python",
   "pygments_lexer": "ipython3",
   "version": "3.8.12"
  }
 },
 "nbformat": 4,
 "nbformat_minor": 2
}
